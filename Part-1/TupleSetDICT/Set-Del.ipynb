{
 "cells": [
  {
   "cell_type": "code",
   "execution_count": 4,
   "id": "c88563cc-acc4-4e13-9baf-6093fd565267",
   "metadata": {},
   "outputs": [
    {
     "name": "stdout",
     "output_type": "stream",
     "text": [
      "{102, 103, 104, 105}\n"
     ]
    }
   ],
   "source": [
    "eids = {101,102,103,104,105}\n",
    "eids.pop()\n",
    "print(eids)\n",
    "#what is - set pop method: remove random element from set  object\n"
   ]
  },
  {
   "cell_type": "code",
   "execution_count": 6,
   "id": "1f44de50-8cf6-414a-abd4-890427cfc795",
   "metadata": {},
   "outputs": [
    {
     "name": "stdout",
     "output_type": "stream",
     "text": [
      "{101, 103, 104, 105}\n"
     ]
    }
   ],
   "source": [
    "eids = {101,102,103,104,105}\n",
    "eids.remove(102)\n",
    "print(eids)"
   ]
  },
  {
   "cell_type": "code",
   "execution_count": 8,
   "id": "2c38db8e-c4dc-470c-94be-651f19f4af0e",
   "metadata": {},
   "outputs": [
    {
     "ename": "KeyError",
     "evalue": "106",
     "output_type": "error",
     "traceback": [
      "\u001b[1;31m---------------------------------------------------------------------------\u001b[0m",
      "\u001b[1;31mKeyError\u001b[0m                                  Traceback (most recent call last)",
      "Cell \u001b[1;32mIn[8], line 2\u001b[0m\n\u001b[0;32m      1\u001b[0m eids \u001b[38;5;241m=\u001b[39m {\u001b[38;5;241m101\u001b[39m,\u001b[38;5;241m102\u001b[39m,\u001b[38;5;241m103\u001b[39m,\u001b[38;5;241m104\u001b[39m,\u001b[38;5;241m105\u001b[39m}\n\u001b[1;32m----> 2\u001b[0m \u001b[43meids\u001b[49m\u001b[38;5;241;43m.\u001b[39;49m\u001b[43mremove\u001b[49m\u001b[43m(\u001b[49m\u001b[38;5;241;43m106\u001b[39;49m\u001b[43m)\u001b[49m\n\u001b[0;32m      3\u001b[0m \u001b[38;5;28mprint\u001b[39m(eids)\n",
      "\u001b[1;31mKeyError\u001b[0m: 106"
     ]
    }
   ],
   "source": [
    "eids = {101,102,103,104,105}\n",
    "eids.remove(106)\n",
    "print(eids)"
   ]
  },
  {
   "cell_type": "code",
   "execution_count": 10,
   "id": "abe5abf0-cbaf-4691-bb9d-733f53866d44",
   "metadata": {},
   "outputs": [
    {
     "name": "stdout",
     "output_type": "stream",
     "text": [
      "{101, 103, 104, 105}\n"
     ]
    }
   ],
   "source": [
    "eids = {101,102,103,104,105}\n",
    "eids.discard(102)\n",
    "print(eids)"
   ]
  },
  {
   "cell_type": "code",
   "execution_count": 11,
   "id": "90561b11-7add-49b2-a0e4-7932e13f7220",
   "metadata": {},
   "outputs": [
    {
     "name": "stdout",
     "output_type": "stream",
     "text": [
      "set()\n"
     ]
    }
   ],
   "source": [
    "eids = {101,102,103,104,105}\n",
    "eids.clear()\n",
    "print(eids)"
   ]
  },
  {
   "cell_type": "code",
   "execution_count": null,
   "id": "d8dcabc0-6622-46ca-9dde-4f080edf3a76",
   "metadata": {},
   "outputs": [],
   "source": []
  }
 ],
 "metadata": {
  "kernelspec": {
   "display_name": "Python 3 (ipykernel)",
   "language": "python",
   "name": "python3"
  },
  "language_info": {
   "codemirror_mode": {
    "name": "ipython",
    "version": 3
   },
   "file_extension": ".py",
   "mimetype": "text/x-python",
   "name": "python",
   "nbconvert_exporter": "python",
   "pygments_lexer": "ipython3",
   "version": "3.12.2"
  }
 },
 "nbformat": 4,
 "nbformat_minor": 5
}
