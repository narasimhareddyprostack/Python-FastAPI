{
 "cells": [
  {
   "cell_type": "code",
   "execution_count": 1,
   "id": "1a2155c0-0010-40c5-a0d0-40b5b1bc37ca",
   "metadata": {},
   "outputs": [
    {
     "name": "stdout",
     "output_type": "stream",
     "text": [
      "{40, 10, 50, 20, 60, 30}\n"
     ]
    }
   ],
   "source": [
    "s1= {10,20,30,40}\n",
    "s2={30,40,50,60}\n",
    "print(s1.union(s2))   #  {10,20,30,40,50,60}\n",
    "#print(s1.intersection(s2))\n",
    "#print(s1.difference(s2))\n",
    "#print(s2.didderence(s1))\n",
    "#print(s1.symmertic_differenece(s2))"
   ]
  },
  {
   "cell_type": "code",
   "execution_count": 3,
   "id": "1be04f2e-8b67-492e-9dd0-b21e75b8ce33",
   "metadata": {},
   "outputs": [
    {
     "name": "stdout",
     "output_type": "stream",
     "text": [
      "{40, 10, 50, 20, 60, 30}\n",
      "{40, 10, 50, 20, 60, 30}\n"
     ]
    }
   ],
   "source": [
    "s1= {10,20,30,40}\n",
    "s2={30,40,50,60}\n",
    "print(s1.union(s2))   #  {10,20,30,40,50,60}\n",
    "print(s1 | s2)"
   ]
  },
  {
   "cell_type": "code",
   "execution_count": 5,
   "id": "71654835-25f7-473a-a340-4a2fbe6a207e",
   "metadata": {},
   "outputs": [
    {
     "name": "stdout",
     "output_type": "stream",
     "text": [
      "{40, 30}\n",
      "{40, 30}\n"
     ]
    }
   ],
   "source": [
    "s1= {10,20,30,40}\n",
    "s2={30,40,50,60}\n",
    "print(s1.intersection(s2)) #{40,30}\n",
    "print(s1 & s2)"
   ]
  },
  {
   "cell_type": "code",
   "execution_count": 7,
   "id": "edc6588f-5da0-4e68-b106-5102aa2a45bc",
   "metadata": {},
   "outputs": [
    {
     "name": "stdout",
     "output_type": "stream",
     "text": [
      "{10, 20}\n",
      "{10, 20}\n"
     ]
    }
   ],
   "source": [
    "s1= {10,20,30,40}\n",
    "s2={30,40,50,60}\n",
    "print(s1.difference(s2))  #{20,10}\n",
    "print(s1 - s2)"
   ]
  },
  {
   "cell_type": "code",
   "execution_count": 8,
   "id": "df7083dd-54b5-4696-91bd-d4840079fa49",
   "metadata": {},
   "outputs": [
    {
     "name": "stdout",
     "output_type": "stream",
     "text": [
      "{50, 60}\n",
      "{50, 60}\n"
     ]
    }
   ],
   "source": [
    "s1= {10,20,30,40}\n",
    "s2={30,40,50,60}\n",
    "print(s2.difference(s1))  #{50,60}\n",
    "print(s2 - s1)            #{50,60}"
   ]
  },
  {
   "cell_type": "code",
   "execution_count": 9,
   "id": "aead77c2-8fbb-4309-a3d5-9bdfffa0e228",
   "metadata": {},
   "outputs": [
    {
     "name": "stdout",
     "output_type": "stream",
     "text": [
      "{10, 50, 20, 60}\n"
     ]
    }
   ],
   "source": [
    "s1= {10,20,30,40}\n",
    "s2={30,40,50,60}\n",
    "print(s1.symmetric_difference(s2))\n",
    "print(s1 ^ s2)\n"
   ]
  },
  {
   "cell_type": "code",
   "execution_count": null,
   "id": "4de3eddc-8be4-437a-8fce-7eac7e8fc415",
   "metadata": {},
   "outputs": [],
   "source": []
  }
 ],
 "metadata": {
  "kernelspec": {
   "display_name": "Python 3 (ipykernel)",
   "language": "python",
   "name": "python3"
  },
  "language_info": {
   "codemirror_mode": {
    "name": "ipython",
    "version": 3
   },
   "file_extension": ".py",
   "mimetype": "text/x-python",
   "name": "python",
   "nbconvert_exporter": "python",
   "pygments_lexer": "ipython3",
   "version": "3.12.2"
  }
 },
 "nbformat": 4,
 "nbformat_minor": 5
}
