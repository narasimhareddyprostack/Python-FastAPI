{
 "cells": [
  {
   "cell_type": "code",
   "execution_count": 1,
   "id": "426a7d25-3d05-4d6d-9fff-62f74ed9afc5",
   "metadata": {},
   "outputs": [
    {
     "name": "stdout",
     "output_type": "stream",
     "text": [
      "()\n",
      "(10,)\n",
      "(10, 20, 30, 40)\n",
      "(10, 20, 30, 40)\n",
      "(0, 1, 2, 3, 4, 5, 6, 7, 8, 9)\n"
     ]
    }
   ],
   "source": [
    "t1 = ()\n",
    "t2 = 10,\n",
    "t3 =  10,20,30,40\n",
    "t4 =  (10,20,30,40)\n",
    "t5= tuple(range(10))\n",
    "\n",
    "print(t1)\n",
    "print(t2)\n",
    "print(t3)\n",
    "print(t4)\n",
    "print(t5)"
   ]
  },
  {
   "cell_type": "code",
   "execution_count": 2,
   "id": "8a1b41c8-522b-48a8-b3df-cbacc8e19051",
   "metadata": {},
   "outputs": [
    {
     "name": "stdout",
     "output_type": "stream",
     "text": [
      "<class 'tuple'>\n",
      "<class 'tuple'>\n",
      "<class 'tuple'>\n",
      "<class 'tuple'>\n",
      "<class 'tuple'>\n"
     ]
    }
   ],
   "source": [
    "t1 = ()\n",
    "t2 = 10,\n",
    "t3 =  10,20,30,40\n",
    "t4 =  (10,20,30,40)\n",
    "t5= tuple(range(10))\n",
    "\n",
    "print(type(t1))\n",
    "print(type(t2))\n",
    "print(type(t3))\n",
    "print(type(t4))\n",
    "print(type(t5))"
   ]
  },
  {
   "cell_type": "code",
   "execution_count": 3,
   "id": "710bb5b3-527f-4ab3-8d0f-01214f54406b",
   "metadata": {},
   "outputs": [
    {
     "name": "stdout",
     "output_type": "stream",
     "text": [
      "Rahul\n"
     ]
    }
   ],
   "source": [
    "enames=('Rahul','Sonia','Priyanka','Modi','Amith','Rajni')\n",
    "#index   0         1         2         3    4       5\n",
    "#access the tuple elements - indexing \n",
    "print(enames[0])\n"
   ]
  },
  {
   "cell_type": "code",
   "execution_count": 4,
   "id": "af7efa4f-da6b-4bca-8b80-7e2aace02e95",
   "metadata": {},
   "outputs": [
    {
     "name": "stdout",
     "output_type": "stream",
     "text": [
      "Rahul\n",
      "Sonia\n",
      "Priyanka\n",
      "Modi\n",
      "Amith\n",
      "Rajni\n"
     ]
    }
   ],
   "source": [
    "enames=('Rahul','Sonia','Priyanka','Modi','Amith','Rajni')\n",
    "#index   0         1         2         3    4       5\n",
    "# iterate tuple object using for and while loop\n",
    "# for loop\n",
    "for ename in enames:\n",
    "    print(ename)\n"
   ]
  },
  {
   "cell_type": "code",
   "execution_count": 6,
   "id": "6e0b267f-2088-4134-bf0f-e43e357dcd0b",
   "metadata": {},
   "outputs": [
    {
     "name": "stdout",
     "output_type": "stream",
     "text": [
      "Rahul\n",
      "Sonia\n",
      "Priyanka\n",
      "Modi\n",
      "Amith\n",
      "Rajni\n"
     ]
    }
   ],
   "source": [
    "enames=('Rahul','Sonia','Priyanka','Modi','Amith','Rajni')\n",
    "#index   0         1         2         3    4       5\n",
    "# iterate tuple object using for and while loop\n",
    "# while loop\n",
    "\n",
    "i=0\n",
    "while i<=len(enames)-1:\n",
    "    print(enames[i])\n",
    "    i=i+1"
   ]
  },
  {
   "cell_type": "code",
   "execution_count": 7,
   "id": "a3dcafef-19c7-478a-a52f-74b9c69a939a",
   "metadata": {},
   "outputs": [
    {
     "name": "stdout",
     "output_type": "stream",
     "text": [
      "('Jan', 'Feb', 'March', 'April', 'May')\n"
     ]
    }
   ],
   "source": [
    "months=(\"Jan\",\"Feb\",\"March\",\"April\",\"May\")\n",
    "print(months)\n"
   ]
  },
  {
   "cell_type": "code",
   "execution_count": 8,
   "id": "187bd56c-07db-4b57-acc5-a41fff506800",
   "metadata": {},
   "outputs": [
    {
     "name": "stdout",
     "output_type": "stream",
     "text": [
      "('Jan', 'Feb', 'March', 'April', 'May')\n"
     ]
    },
    {
     "ename": "AttributeError",
     "evalue": "'tuple' object has no attribute 'append'",
     "output_type": "error",
     "traceback": [
      "\u001b[1;31m---------------------------------------------------------------------------\u001b[0m",
      "\u001b[1;31mAttributeError\u001b[0m                            Traceback (most recent call last)",
      "Cell \u001b[1;32mIn[8], line 3\u001b[0m\n\u001b[0;32m      1\u001b[0m months\u001b[38;5;241m=\u001b[39m(\u001b[38;5;124m\"\u001b[39m\u001b[38;5;124mJan\u001b[39m\u001b[38;5;124m\"\u001b[39m,\u001b[38;5;124m\"\u001b[39m\u001b[38;5;124mFeb\u001b[39m\u001b[38;5;124m\"\u001b[39m,\u001b[38;5;124m\"\u001b[39m\u001b[38;5;124mMarch\u001b[39m\u001b[38;5;124m\"\u001b[39m,\u001b[38;5;124m\"\u001b[39m\u001b[38;5;124mApril\u001b[39m\u001b[38;5;124m\"\u001b[39m,\u001b[38;5;124m\"\u001b[39m\u001b[38;5;124mMay\u001b[39m\u001b[38;5;124m\"\u001b[39m)\n\u001b[0;32m      2\u001b[0m \u001b[38;5;28mprint\u001b[39m(months)\n\u001b[1;32m----> 3\u001b[0m \u001b[43mmonths\u001b[49m\u001b[38;5;241;43m.\u001b[39;49m\u001b[43mappend\u001b[49m(\u001b[38;5;124m\"\u001b[39m\u001b[38;5;124mJune\u001b[39m\u001b[38;5;124m\"\u001b[39m)\n",
      "\u001b[1;31mAttributeError\u001b[0m: 'tuple' object has no attribute 'append'"
     ]
    }
   ],
   "source": [
    "months=(\"Jan\",\"Feb\",\"March\",\"April\",\"May\")\n",
    "print(months)\n",
    "months.append(\"June\")"
   ]
  },
  {
   "cell_type": "code",
   "execution_count": 9,
   "id": "13f62a3d-edf6-435c-9980-c8138f05a50c",
   "metadata": {},
   "outputs": [
    {
     "name": "stdout",
     "output_type": "stream",
     "text": [
      "['Amith', 'Modi', 'Priyanka', 'Rahul', 'Rajni', 'Sonia']\n"
     ]
    }
   ],
   "source": [
    "enames=['Rahul','Sonia','Priyanka','Modi','Amith','Rajni']\n",
    "#index   0         1         2         3    4       5\n",
    "enames.sort()\n",
    "print(enames)"
   ]
  },
  {
   "cell_type": "code",
   "execution_count": 10,
   "id": "36707283-dc40-44f2-9af4-401a3a604bb0",
   "metadata": {},
   "outputs": [
    {
     "ename": "AttributeError",
     "evalue": "'tuple' object has no attribute 'sort'",
     "output_type": "error",
     "traceback": [
      "\u001b[1;31m---------------------------------------------------------------------------\u001b[0m",
      "\u001b[1;31mAttributeError\u001b[0m                            Traceback (most recent call last)",
      "Cell \u001b[1;32mIn[10], line 3\u001b[0m\n\u001b[0;32m      1\u001b[0m enames\u001b[38;5;241m=\u001b[39m(\u001b[38;5;124m'\u001b[39m\u001b[38;5;124mRahul\u001b[39m\u001b[38;5;124m'\u001b[39m,\u001b[38;5;124m'\u001b[39m\u001b[38;5;124mSonia\u001b[39m\u001b[38;5;124m'\u001b[39m,\u001b[38;5;124m'\u001b[39m\u001b[38;5;124mPriyanka\u001b[39m\u001b[38;5;124m'\u001b[39m,\u001b[38;5;124m'\u001b[39m\u001b[38;5;124mModi\u001b[39m\u001b[38;5;124m'\u001b[39m,\u001b[38;5;124m'\u001b[39m\u001b[38;5;124mAmith\u001b[39m\u001b[38;5;124m'\u001b[39m,\u001b[38;5;124m'\u001b[39m\u001b[38;5;124mRajni\u001b[39m\u001b[38;5;124m'\u001b[39m)\n\u001b[0;32m      2\u001b[0m \u001b[38;5;66;03m#index   0         1         2         3    4       5\u001b[39;00m\n\u001b[1;32m----> 3\u001b[0m \u001b[43menames\u001b[49m\u001b[38;5;241;43m.\u001b[39;49m\u001b[43msort\u001b[49m()\n\u001b[0;32m      4\u001b[0m \u001b[38;5;28mprint\u001b[39m(enames)\n",
      "\u001b[1;31mAttributeError\u001b[0m: 'tuple' object has no attribute 'sort'"
     ]
    }
   ],
   "source": [
    "enames=('Rahul','Sonia','Priyanka','Modi','Amith','Rajni')\n",
    "#index   0         1         2         3    4       5\n",
    "enames.sort()\n",
    "print(enames)"
   ]
  },
  {
   "cell_type": "code",
   "execution_count": 12,
   "id": "96fa2254-0d62-4e06-8e75-d5f2dabd8c80",
   "metadata": {},
   "outputs": [
    {
     "name": "stdout",
     "output_type": "stream",
     "text": [
      "['Amith', 'Modi', 'Priyanka', 'Rahul', 'Rajni', 'Sonia']\n",
      "<class 'list'>\n",
      "('Amith', 'Modi', 'Priyanka', 'Rahul', 'Rajni', 'Sonia')\n",
      "<class 'tuple'>\n"
     ]
    }
   ],
   "source": [
    "enames=('Rahul','Sonia','Priyanka','Modi','Amith','Rajni')\n",
    "#index   0         1         2         3    4       5\n",
    "new_names=sorted(enames)\n",
    "print(new_names)\n",
    "print(type(new_names))\n",
    "\n",
    "enames=tuple(new_names)\n",
    "print(enames)\n",
    "print(type(enames))"
   ]
  },
  {
   "cell_type": "code",
   "execution_count": 14,
   "id": "ba776b1b-660d-4971-a7a2-0c69afbcb95d",
   "metadata": {},
   "outputs": [
    {
     "name": "stdout",
     "output_type": "stream",
     "text": [
      "1\n"
     ]
    },
    {
     "ename": "ValueError",
     "evalue": "tuple.index(x): x not in tuple",
     "output_type": "error",
     "traceback": [
      "\u001b[1;31m---------------------------------------------------------------------------\u001b[0m",
      "\u001b[1;31mValueError\u001b[0m                                Traceback (most recent call last)",
      "Cell \u001b[1;32mIn[14], line 5\u001b[0m\n\u001b[0;32m      2\u001b[0m \u001b[38;5;66;03m#index   0         1         2         3    4       5\u001b[39;00m\n\u001b[0;32m      4\u001b[0m \u001b[38;5;28mprint\u001b[39m(enames\u001b[38;5;241m.\u001b[39mindex(\u001b[38;5;124m'\u001b[39m\u001b[38;5;124mSonia\u001b[39m\u001b[38;5;124m'\u001b[39m))\n\u001b[1;32m----> 5\u001b[0m \u001b[38;5;28mprint\u001b[39m(\u001b[43menames\u001b[49m\u001b[38;5;241;43m.\u001b[39;49m\u001b[43mindex\u001b[49m\u001b[43m(\u001b[49m\u001b[38;5;124;43m'\u001b[39;49m\u001b[38;5;124;43mSonia Gandhi\u001b[39;49m\u001b[38;5;124;43m'\u001b[39;49m\u001b[43m)\u001b[49m)\n",
      "\u001b[1;31mValueError\u001b[0m: tuple.index(x): x not in tuple"
     ]
    }
   ],
   "source": [
    "enames=('Rahul','Sonia','Priyanka','Modi','Amith','Rajni')\n",
    "#index   0         1         2         3    4       5\n",
    "\n",
    "print(enames.index('Sonia'))\n",
    "print(enames.index('Sonia Gandhi'))"
   ]
  },
  {
   "cell_type": "code",
   "execution_count": 16,
   "id": "024dbed0-378a-49be-accf-64264b8bf3c4",
   "metadata": {},
   "outputs": [
    {
     "name": "stdout",
     "output_type": "stream",
     "text": [
      "2\n"
     ]
    }
   ],
   "source": [
    "enames=('Rahul','Sonia','Sonia','Priyanka','Modi','Amith','Rajni')\n",
    "#index   0         1         2         3    4       5\n",
    "\n",
    "print(enames.count('Sonia'))"
   ]
  },
  {
   "cell_type": "code",
   "execution_count": 17,
   "id": "61e90b27-22a4-4e2f-baff-53db92da9f6c",
   "metadata": {},
   "outputs": [
    {
     "ename": "AttributeError",
     "evalue": "'tuple' object has no attribute 'copy'",
     "output_type": "error",
     "traceback": [
      "\u001b[1;31m---------------------------------------------------------------------------\u001b[0m",
      "\u001b[1;31mAttributeError\u001b[0m                            Traceback (most recent call last)",
      "Cell \u001b[1;32mIn[17], line 2\u001b[0m\n\u001b[0;32m      1\u001b[0m t1  \u001b[38;5;241m=\u001b[39m (\u001b[38;5;241m10\u001b[39m,\u001b[38;5;241m20\u001b[39m,\u001b[38;5;241m30\u001b[39m)\n\u001b[1;32m----> 2\u001b[0m t2 \u001b[38;5;241m=\u001b[39m  \u001b[43mt1\u001b[49m\u001b[38;5;241;43m.\u001b[39;49m\u001b[43mcopy\u001b[49m()\n\u001b[0;32m      3\u001b[0m \u001b[38;5;28mprint\u001b[39m(t2)\n",
      "\u001b[1;31mAttributeError\u001b[0m: 'tuple' object has no attribute 'copy'"
     ]
    }
   ],
   "source": [
    "t1  = (10,20,30)\n",
    "t2 =  t1.copy()\n",
    "print(t2)"
   ]
  },
  {
   "cell_type": "code",
   "execution_count": null,
   "id": "4c952b13-0e51-40e4-b14f-6195ffc4bfc0",
   "metadata": {},
   "outputs": [],
   "source": []
  }
 ],
 "metadata": {
  "kernelspec": {
   "display_name": "Python 3 (ipykernel)",
   "language": "python",
   "name": "python3"
  },
  "language_info": {
   "codemirror_mode": {
    "name": "ipython",
    "version": 3
   },
   "file_extension": ".py",
   "mimetype": "text/x-python",
   "name": "python",
   "nbconvert_exporter": "python",
   "pygments_lexer": "ipython3",
   "version": "3.12.2"
  }
 },
 "nbformat": 4,
 "nbformat_minor": 5
}
