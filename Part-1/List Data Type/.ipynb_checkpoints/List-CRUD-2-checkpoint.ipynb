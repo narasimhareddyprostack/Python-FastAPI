{
 "cells": [
  {
   "cell_type": "code",
   "execution_count": 1,
   "id": "eb40ab63-5323-4f59-acaf-c2d543208de0",
   "metadata": {},
   "outputs": [
    {
     "name": "stdin",
     "output_type": "stream",
     "text": [
      "Enter Data [10,20,30,40]\n"
     ]
    },
    {
     "name": "stdout",
     "output_type": "stream",
     "text": [
      "[10, 20, 30, 40]\n",
      "<class 'list'>\n"
     ]
    }
   ],
   "source": [
    "#How to create/different ways to create list object\n",
    "l1=[]  #empty list\n",
    "l2=[10,20,30,40]\n",
    "l3=eval(input(\"Enter Data\"))\n",
    "print(l3)\n",
    "print(type(l3))"
   ]
  },
  {
   "cell_type": "code",
   "execution_count": 2,
   "id": "47bec6e1-c6fe-4e86-8e88-d950f429c689",
   "metadata": {},
   "outputs": [
    {
     "name": "stdout",
     "output_type": "stream",
     "text": [
      "3\n"
     ]
    }
   ],
   "source": [
    "enames=['Rahul','Sonai','Priyanka']\n",
    "print(len(enames))\n",
    "\n",
    "#what len() funciton- return size of sequence\n"
   ]
  },
  {
   "cell_type": "code",
   "execution_count": 3,
   "id": "95537013-eaa3-48b7-a644-b244cf82fef9",
   "metadata": {},
   "outputs": [
    {
     "name": "stdout",
     "output_type": "stream",
     "text": [
      "3\n"
     ]
    }
   ],
   "source": [
    "enames=['Rahul','Sonai','Priyanka','Rahul','Sonai','Priyanka','Rahul','Sonai','Priyanka']\n",
    "\n",
    "print(enames.count('Sonai'))\n"
   ]
  },
  {
   "cell_type": "code",
   "execution_count": 4,
   "id": "a04594f2-9ba3-4904-a207-f22626930ad2",
   "metadata": {},
   "outputs": [
    {
     "name": "stdout",
     "output_type": "stream",
     "text": [
      "1\n"
     ]
    }
   ],
   "source": [
    "enames=['Rahul','Sonai','Priyanka']\n",
    "\n",
    "print(enames.index('Sonai'))"
   ]
  },
  {
   "cell_type": "code",
   "execution_count": null,
   "id": "b7e615b4-c5e9-4ff5-b670-f974e717642f",
   "metadata": {},
   "outputs": [],
   "source": []
  }
 ],
 "metadata": {
  "kernelspec": {
   "display_name": "Python 3 (ipykernel)",
   "language": "python",
   "name": "python3"
  },
  "language_info": {
   "codemirror_mode": {
    "name": "ipython",
    "version": 3
   },
   "file_extension": ".py",
   "mimetype": "text/x-python",
   "name": "python",
   "nbconvert_exporter": "python",
   "pygments_lexer": "ipython3",
   "version": "3.12.2"
  }
 },
 "nbformat": 4,
 "nbformat_minor": 5
}
