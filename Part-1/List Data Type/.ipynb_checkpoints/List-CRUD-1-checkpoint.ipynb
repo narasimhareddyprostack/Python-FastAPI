{
 "cells": [
  {
   "cell_type": "code",
   "execution_count": 1,
   "id": "0e30b908-00b9-4f94-a208-95ff86955d28",
   "metadata": {},
   "outputs": [
    {
     "name": "stdout",
     "output_type": "stream",
     "text": [
      "[10, 20, 30, 40, 50]\n",
      "<class 'list'>\n"
     ]
    }
   ],
   "source": [
    "#create list object\n",
    "l1 = [10,20,30,40,50]  \n",
    "#read list object\n",
    "print(l1)\n",
    "print(type(l1))"
   ]
  },
  {
   "cell_type": "code",
   "execution_count": 2,
   "id": "0131cf55-d3c1-4765-963f-45fdaf7db186",
   "metadata": {},
   "outputs": [
    {
     "name": "stdout",
     "output_type": "stream",
     "text": [
      "[10, 10, 10, 20.5, 'Rahul', True, [], {10}]\n",
      "<class 'list'>\n"
     ]
    }
   ],
   "source": [
    "l2=[10,10,10,20.5,\"Rahul\",True,[],{10}]\n",
    "print(l2)\n",
    "print(type(l2))"
   ]
  },
  {
   "cell_type": "code",
   "execution_count": 3,
   "id": "5c5f0819-9c6d-4171-8cab-52e1f0a5a65c",
   "metadata": {},
   "outputs": [],
   "source": [
    "eids=[101,102,103,104]\n",
    "#list elements are storing based on indexing\n",
    "#indexing from 0 to n-1 and \n",
    "# -ve indexing possible.\n"
   ]
  },
  {
   "cell_type": "code",
   "execution_count": 4,
   "id": "5d458d92-c86a-44da-9195-a9af10821634",
   "metadata": {},
   "outputs": [
    {
     "name": "stdout",
     "output_type": "stream",
     "text": [
      "[101, 102, 103, 104]\n",
      "101\n",
      "102\n",
      "103\n",
      "104\n"
     ]
    }
   ],
   "source": [
    "eids=[101,102,103,104]\n",
    "#index 0   1   2   3\n",
    "print(eids)\n",
    "#how to read list elements - using indexing\n",
    "print(eids[0])\n",
    "print(eids[1])\n",
    "print(eids[2])\n",
    "print(eids[3])\n"
   ]
  },
  {
   "cell_type": "code",
   "execution_count": 5,
   "id": "9979e3e2-bd66-4f63-b707-ffa44db4850c",
   "metadata": {},
   "outputs": [
    {
     "name": "stdout",
     "output_type": "stream",
     "text": [
      "104\n",
      "103\n",
      "102\n",
      "101\n"
     ]
    }
   ],
   "source": [
    "eids=[101,102,103,104]\n",
    "#index 0   1   2   3\n",
    "#index -4 -3  -2  -1\n",
    "\n",
    "#read list elements - using -ve indexing\n",
    "print(eids[-1])\n",
    "print(eids[-2])\n",
    "print(eids[-3])\n",
    "print(eids[-4])"
   ]
  },
  {
   "cell_type": "code",
   "execution_count": 6,
   "id": "11ba19a4-4fd2-4472-9068-d42ee22120e5",
   "metadata": {},
   "outputs": [
    {
     "ename": "IndexError",
     "evalue": "list index out of range",
     "output_type": "error",
     "traceback": [
      "\u001b[1;31m--------------------------------------------------------------------------\u001b[0m",
      "\u001b[1;31mIndexError\u001b[0m                               Traceback (most recent call last)",
      "Cell \u001b[1;32mIn[6], line 5\u001b[0m\n\u001b[0;32m      1\u001b[0m eids\u001b[38;5;241m=\u001b[39m[\u001b[38;5;241m101\u001b[39m,\u001b[38;5;241m102\u001b[39m,\u001b[38;5;241m103\u001b[39m,\u001b[38;5;241m104\u001b[39m]\n\u001b[0;32m      2\u001b[0m \u001b[38;5;66;03m#index 0   1   2   3\u001b[39;00m\n\u001b[0;32m      3\u001b[0m \u001b[38;5;66;03m#index -4 -3  -2  -1\u001b[39;00m\n\u001b[1;32m----> 5\u001b[0m \u001b[38;5;28mprint\u001b[39m(\u001b[43meids\u001b[49m\u001b[43m[\u001b[49m\u001b[38;5;241;43m10\u001b[39;49m\u001b[43m]\u001b[49m)\n",
      "\u001b[1;31mIndexError\u001b[0m: list index out of range"
     ]
    }
   ],
   "source": [
    "eids=[101,102,103,104]\n",
    "#index 0   1   2   3\n",
    "#index -4 -3  -2  -1\n",
    "\n",
    "print(eids[10])"
   ]
  },
  {
   "cell_type": "code",
   "execution_count": 8,
   "id": "4ad4f632-6f57-401c-8c24-d6de180edd9e",
   "metadata": {},
   "outputs": [
    {
     "ename": "SyntaxError",
     "evalue": "unterminated string literal (detected at line 3) (543694404.py, line 3)",
     "output_type": "error",
     "traceback": [
      "\u001b[1;36m  Cell \u001b[1;32mIn[8], line 3\u001b[1;36m\u001b[0m\n\u001b[1;33m    enames=['Rahul','Sonia','Priyanka','Modi','Amith]\u001b[0m\n\u001b[1;37m                                              ^\u001b[0m\n\u001b[1;31mSyntaxError\u001b[0m\u001b[1;31m:\u001b[0m unterminated string literal (detected at line 3)\n"
     ]
    }
   ],
   "source": [
    "#iterate list object - for loop and while loop\n",
    "\n",
    "enames=['Rahul','Sonia','Priyanka','Modi','Amith]\n",
    "#index   0       1           2       3         4\n"
   ]
  },
  {
   "cell_type": "code",
   "execution_count": 11,
   "id": "5858ccd8-a4c4-429a-820d-9e72d1417293",
   "metadata": {},
   "outputs": [
    {
     "name": "stdout",
     "output_type": "stream",
     "text": [
      "Rahul\n",
      "Sonia\n",
      "Priyanka\n",
      "Modi\n",
      "Amith\n",
      "************\n",
      "Rahul\n",
      "Sonia\n",
      "Priyanka\n",
      "Modi\n",
      "Amith\n"
     ]
    }
   ],
   "source": [
    "\n",
    "enames=['Rahul','Sonia','Priyanka','Modi','Amith']\n",
    "#index   0       1           2       3         4\n",
    "\n",
    "#iterate list object - ie enames using for loop and while loop\n",
    "\n",
    "for ename in enames:\n",
    "    print(ename)\n",
    "print(\"************\")\n",
    "i=0\n",
    "while i<=4:\n",
    "    print(enames[i])\n",
    "    i=i+1"
   ]
  },
  {
   "cell_type": "code",
   "execution_count": 12,
   "id": "a1026561-fa98-4a46-a886-c2f46a4cb0a2",
   "metadata": {},
   "outputs": [
    {
     "name": "stdout",
     "output_type": "stream",
     "text": [
      "101\n",
      "102\n",
      "103\n",
      "104\n"
     ]
    }
   ],
   "source": [
    "eids=[101,102,103,104]\n",
    "\n",
    "for eid in eids:\n",
    "    print(eid)\n",
    "    \n"
   ]
  },
  {
   "cell_type": "code",
   "execution_count": 13,
   "id": "8a372a4d-ef3b-47de-9dbc-eef247486dc4",
   "metadata": {},
   "outputs": [
    {
     "name": "stdout",
     "output_type": "stream",
     "text": [
      "225\n"
     ]
    }
   ],
   "source": [
    "marks=[35,36,37,38,39,40]\n",
    "total_marks=0\n",
    "\n",
    "for mark in marks:\n",
    "    total_marks = total_marks + mark \n",
    "\n",
    "print(total_marks)"
   ]
  },
  {
   "cell_type": "code",
   "execution_count": 14,
   "id": "9613617f-e4a4-409f-8bf4-6655c35a818a",
   "metadata": {},
   "outputs": [
    {
     "name": "stdout",
     "output_type": "stream",
     "text": [
      "225\n"
     ]
    }
   ],
   "source": [
    "marks=[35,36,37,38,39,40]\n",
    "#index  0  1  2  3  4 5\n",
    "total_marks=0\n",
    "\n",
    "i=0\n",
    "while i<=5:\n",
    "    total_marks=total_marks + marks[i]\n",
    "    i=i+1\n",
    "\n",
    "print(total_marks)\n"
   ]
  },
  {
   "cell_type": "code",
   "execution_count": null,
   "id": "4abd04d9-22c7-49dd-a427-0a34642ba7ac",
   "metadata": {},
   "outputs": [],
   "source": [
    "#How to create/different ways to create list object\n",
    "l1=[]  #empty list\n",
    "l2=[10,20,30,40]\n",
    "l3=eval(input(\"Enter Data\"))\n",
    "print(l3)\n",
    "print(type(l3))"
   ]
  },
  {
   "cell_type": "code",
   "execution_count": null,
   "id": "c407cbf0-5e8a-4eb9-9226-324d8ecd3aac",
   "metadata": {},
   "outputs": [],
   "source": []
  }
 ],
 "metadata": {
  "kernelspec": {
   "display_name": "Python 3 (ipykernel)",
   "language": "python",
   "name": "python3"
  },
  "language_info": {
   "codemirror_mode": {
    "name": "ipython",
    "version": 3
   },
   "file_extension": ".py",
   "mimetype": "text/x-python",
   "name": "python",
   "nbconvert_exporter": "python",
   "pygments_lexer": "ipython3",
   "version": "3.12.2"
  }
 },
 "nbformat": 4,
 "nbformat_minor": 5
}
