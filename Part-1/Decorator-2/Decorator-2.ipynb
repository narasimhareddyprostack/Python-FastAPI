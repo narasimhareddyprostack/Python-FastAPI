{
 "cells": [
  {
   "cell_type": "code",
   "execution_count": 1,
   "id": "e24650dd-d87c-459a-9042-d6cf9fa30464",
   "metadata": {},
   "outputs": [
    {
     "name": "stdout",
     "output_type": "stream",
     "text": [
      "5.0\n"
     ]
    }
   ],
   "source": [
    "def calc(a,b):\n",
    "    print(a/b)\n",
    "\n",
    "\n",
    "calc(10,2)"
   ]
  },
  {
   "cell_type": "code",
   "execution_count": 2,
   "id": "b29875f0-7c63-4c10-a766-d35dcb9e224a",
   "metadata": {},
   "outputs": [
    {
     "ename": "ZeroDivisionError",
     "evalue": "division by zero",
     "output_type": "error",
     "traceback": [
      "\u001b[1;31m---------------------------------------------------------------------------\u001b[0m",
      "\u001b[1;31mZeroDivisionError\u001b[0m                         Traceback (most recent call last)",
      "Cell \u001b[1;32mIn[2], line 5\u001b[0m\n\u001b[0;32m      1\u001b[0m \u001b[38;5;28;01mdef\u001b[39;00m \u001b[38;5;21mcalc\u001b[39m(a,b):\n\u001b[0;32m      2\u001b[0m     \u001b[38;5;28mprint\u001b[39m(a\u001b[38;5;241m/\u001b[39mb)\n\u001b[1;32m----> 5\u001b[0m \u001b[43mcalc\u001b[49m\u001b[43m(\u001b[49m\u001b[38;5;241;43m10\u001b[39;49m\u001b[43m,\u001b[49m\u001b[38;5;241;43m0\u001b[39;49m\u001b[43m)\u001b[49m\n",
      "Cell \u001b[1;32mIn[2], line 2\u001b[0m, in \u001b[0;36mcalc\u001b[1;34m(a, b)\u001b[0m\n\u001b[0;32m      1\u001b[0m \u001b[38;5;28;01mdef\u001b[39;00m \u001b[38;5;21mcalc\u001b[39m(a,b):\n\u001b[1;32m----> 2\u001b[0m     \u001b[38;5;28mprint\u001b[39m(\u001b[43ma\u001b[49m\u001b[38;5;241;43m/\u001b[39;49m\u001b[43mb\u001b[49m)\n",
      "\u001b[1;31mZeroDivisionError\u001b[0m: division by zero"
     ]
    }
   ],
   "source": [
    "def calc(a,b):\n",
    "    print(a/b)\n",
    "\n",
    "\n",
    "calc(10,0)"
   ]
  },
  {
   "cell_type": "code",
   "execution_count": 3,
   "id": "9a5b0c5f-6b7f-4fc6-be0c-82ea17ef6916",
   "metadata": {},
   "outputs": [
    {
     "ename": "NameError",
     "evalue": "name 'testcase' is not defined",
     "output_type": "error",
     "traceback": [
      "\u001b[1;31m---------------------------------------------------------------------------\u001b[0m",
      "\u001b[1;31mNameError\u001b[0m                                 Traceback (most recent call last)",
      "Cell \u001b[1;32mIn[3], line 1\u001b[0m\n\u001b[1;32m----> 1\u001b[0m \u001b[38;5;129m@testcase\u001b[39m\n\u001b[0;32m      2\u001b[0m \u001b[38;5;28;01mdef\u001b[39;00m \u001b[38;5;21mcalc\u001b[39m(a,b):\n\u001b[0;32m      3\u001b[0m     \u001b[38;5;28mprint\u001b[39m(a\u001b[38;5;241m/\u001b[39mb)\n\u001b[0;32m      6\u001b[0m calc(\u001b[38;5;241m10\u001b[39m,\u001b[38;5;241m0\u001b[39m)\n",
      "\u001b[1;31mNameError\u001b[0m: name 'testcase' is not defined"
     ]
    }
   ],
   "source": [
    "@testcase\n",
    "def calc(a,b):\n",
    "    print(a/b)\n",
    "\n",
    "\n",
    "calc(10,0)"
   ]
  },
  {
   "cell_type": "code",
   "execution_count": 4,
   "id": "7f3bd2bf-f390-43e9-87de-5ef7533b05dc",
   "metadata": {},
   "outputs": [
    {
     "ename": "ZeroDivisionError",
     "evalue": "division by zero",
     "output_type": "error",
     "traceback": [
      "\u001b[1;31m---------------------------------------------------------------------------\u001b[0m",
      "\u001b[1;31mZeroDivisionError\u001b[0m                         Traceback (most recent call last)",
      "Cell \u001b[1;32mIn[4], line 14\u001b[0m\n\u001b[0;32m     10\u001b[0m \u001b[38;5;28;01mdef\u001b[39;00m \u001b[38;5;21mcalc\u001b[39m(a,b):\n\u001b[0;32m     11\u001b[0m     \u001b[38;5;28mprint\u001b[39m(a\u001b[38;5;241m/\u001b[39mb)\n\u001b[1;32m---> 14\u001b[0m \u001b[43mcalc\u001b[49m\u001b[43m(\u001b[49m\u001b[38;5;241;43m10\u001b[39;49m\u001b[43m,\u001b[49m\u001b[38;5;241;43m0\u001b[39;49m\u001b[43m)\u001b[49m\n",
      "Cell \u001b[1;32mIn[4], line 11\u001b[0m, in \u001b[0;36mcalc\u001b[1;34m(a, b)\u001b[0m\n\u001b[0;32m     10\u001b[0m \u001b[38;5;28;01mdef\u001b[39;00m \u001b[38;5;21mcalc\u001b[39m(a,b):\n\u001b[1;32m---> 11\u001b[0m     \u001b[38;5;28mprint\u001b[39m(\u001b[43ma\u001b[49m\u001b[38;5;241;43m/\u001b[39;49m\u001b[43mb\u001b[49m)\n",
      "\u001b[1;31mZeroDivisionError\u001b[0m: division by zero"
     ]
    }
   ],
   "source": [
    "def testcase(func):\n",
    "    def inner(a,b):\n",
    "        if b==0:\n",
    "            print(\"Can't Divide by Zero\")\n",
    "        else:\n",
    "            return func(a,b)\n",
    "    return inner\n",
    "\n",
    "\n",
    "def calc(a,b):\n",
    "    print(a/b)\n",
    "\n",
    "\n",
    "calc(10,0)"
   ]
  },
  {
   "cell_type": "code",
   "execution_count": 6,
   "id": "1d5c3cbf-60c6-400a-ae9e-21b3ac20142c",
   "metadata": {},
   "outputs": [
    {
     "name": "stdout",
     "output_type": "stream",
     "text": [
      "Buddy-Can't Divide by Zero\n"
     ]
    }
   ],
   "source": [
    "def testcase(func):\n",
    "    def inner(a,b):\n",
    "        if b==0:\n",
    "            print(\"Buddy-Can't Divide by Zero\")\n",
    "        else:\n",
    "            return func(a,b)\n",
    "    return inner\n",
    "\n",
    "@testcase\n",
    "def calc(a,b):\n",
    "    print(a/b)\n",
    "\n",
    "\n",
    "calc(10,0)"
   ]
  },
  {
   "cell_type": "code",
   "execution_count": 7,
   "id": "2966ac96-c4c5-4af1-854b-3645aba5452f",
   "metadata": {},
   "outputs": [
    {
     "name": "stdout",
     "output_type": "stream",
     "text": [
      "Outer Function\n"
     ]
    }
   ],
   "source": [
    "def outer():\n",
    "    print(\"Outer Function\")\n",
    "\n",
    "\n",
    "outer()"
   ]
  },
  {
   "cell_type": "code",
   "execution_count": 8,
   "id": "25fb5d42-034d-4738-a7c0-37e04281c6a3",
   "metadata": {},
   "outputs": [
    {
     "name": "stdout",
     "output_type": "stream",
     "text": [
      "Outer Function\n"
     ]
    }
   ],
   "source": [
    "def outer():\n",
    "    print(\"Outer Function\")\n",
    "    def inner():\n",
    "        print(\"Inner Function\")\n",
    "\n",
    "outer()"
   ]
  },
  {
   "cell_type": "code",
   "execution_count": 9,
   "id": "e7800bd3-c729-436c-84ba-5c52f1db1647",
   "metadata": {},
   "outputs": [
    {
     "name": "stdout",
     "output_type": "stream",
     "text": [
      "Outer Function\n",
      "Inner Function\n"
     ]
    }
   ],
   "source": [
    "def outer():\n",
    "    print(\"Outer Function\")\n",
    "    def inner():\n",
    "        print(\"Inner Function\")\n",
    "\n",
    "    inner()\n",
    "\n",
    "outer()"
   ]
  },
  {
   "cell_type": "code",
   "execution_count": 10,
   "id": "191846bc-dffd-4381-ab7b-551f9044f9e7",
   "metadata": {},
   "outputs": [
    {
     "name": "stdout",
     "output_type": "stream",
     "text": [
      "Outer Function\n"
     ]
    },
    {
     "ename": "NameError",
     "evalue": "name 'inner' is not defined",
     "output_type": "error",
     "traceback": [
      "\u001b[1;31m---------------------------------------------------------------------------\u001b[0m",
      "\u001b[1;31mNameError\u001b[0m                                 Traceback (most recent call last)",
      "Cell \u001b[1;32mIn[10], line 8\u001b[0m\n\u001b[0;32m      4\u001b[0m         \u001b[38;5;28mprint\u001b[39m(\u001b[38;5;124m\"\u001b[39m\u001b[38;5;124mInner Function\u001b[39m\u001b[38;5;124m\"\u001b[39m)\n\u001b[0;32m      7\u001b[0m outer()\n\u001b[1;32m----> 8\u001b[0m \u001b[43minner\u001b[49m()\n",
      "\u001b[1;31mNameError\u001b[0m: name 'inner' is not defined"
     ]
    }
   ],
   "source": [
    "def outer():\n",
    "    print(\"Outer Function\")\n",
    "    def inner():\n",
    "        print(\"Inner Function\")\n",
    "\n",
    "    \n",
    "outer()\n",
    "inner()\n",
    "\n",
    "    \n",
    "\n",
    "\n"
   ]
  },
  {
   "cell_type": "code",
   "execution_count": 12,
   "id": "c01f5db6-fc92-48cd-b552-43c802b6f9f8",
   "metadata": {},
   "outputs": [
    {
     "name": "stdout",
     "output_type": "stream",
     "text": [
      "Outer Function\n",
      "Inner Function\n",
      "Inner Function\n",
      "Inner Function\n"
     ]
    }
   ],
   "source": [
    "def outer():\n",
    "    print(\"Outer Function\")\n",
    "    def inner():\n",
    "        print(\"Inner Function\")\n",
    "        \n",
    "    return inner\n",
    "    \n",
    "inner=outer()\n",
    "inner()\n",
    "inner()\n",
    "inner()"
   ]
  },
  {
   "cell_type": "code",
   "execution_count": 13,
   "id": "03d82f02-95bf-4147-97a7-302d1891b428",
   "metadata": {},
   "outputs": [
    {
     "name": "stdout",
     "output_type": "stream",
     "text": [
      "Home Page\n",
      "Home Page\n"
     ]
    }
   ],
   "source": [
    "def login_req(func):\n",
    "    pass\n",
    "\n",
    "\n",
    "def home_page(islogin):\n",
    "    print(\"Home Page\")\n",
    "home_page(True)\n",
    "home_page(False)"
   ]
  },
  {
   "cell_type": "code",
   "execution_count": 15,
   "id": "667c6339-843a-40e9-85a6-45262d700d32",
   "metadata": {},
   "outputs": [
    {
     "name": "stdout",
     "output_type": "stream",
     "text": [
      "Home Page\n"
     ]
    }
   ],
   "source": [
    "def login_req(func):\n",
    "    def inner(islogin):\n",
    "        if islogin == False:\n",
    "            print(\"Login Req\")\n",
    "        else:\n",
    "            return func(islogin)\n",
    "\n",
    "    return inner\n",
    "\n",
    "\n",
    "@login_req\n",
    "def home_page(islogin):\n",
    "    print(\"Home Page\")\n",
    "    \n",
    "home_page(True)\n"
   ]
  },
  {
   "cell_type": "code",
   "execution_count": 20,
   "id": "55cf8e6f-a188-46a8-9b03-0ee903053bc2",
   "metadata": {},
   "outputs": [
    {
     "name": "stdout",
     "output_type": "stream",
     "text": [
      "Login Req\n",
      "Home Page\n",
      "Login Req\n",
      "Order Page\n"
     ]
    }
   ],
   "source": [
    "def login_req(func):\n",
    "    def inner(name,islogin):\n",
    "        if islogin == False:\n",
    "            print(\"Login Req\")\n",
    "        else:\n",
    "            return func(name,islogin)\n",
    "\n",
    "    return inner\n",
    "\n",
    "\n",
    "@login_req\n",
    "def home_page(name, islogin):\n",
    "    print(\"Home Page\")\n",
    "def about_page(name, islogin):\n",
    "    print(\"About Page\")\n",
    "\n",
    "@login_req\n",
    "def order_page(name, islogin):\n",
    "    print(\"Order Page\")\n",
    "def profile_page(name, islogin):\n",
    "    print(\"Profile Page\")\n",
    "\n",
    "home_page(\"Rahul\", False)\n",
    "home_page(\"Rahul\", True)\n",
    "\n",
    "order_page(\"Rahul\", False)\n",
    "order_page(\"Rahul\", True)"
   ]
  },
  {
   "cell_type": "code",
   "execution_count": 21,
   "id": "2e3e856f-3134-4e0c-a8b8-794dbc212f41",
   "metadata": {},
   "outputs": [
    {
     "name": "stdout",
     "output_type": "stream",
     "text": [
      "Home Page\n",
      "About Page\n",
      "Login Req\n",
      "Login Req\n"
     ]
    }
   ],
   "source": [
    "def login_req(func):\n",
    "    def inner(islogin):\n",
    "        if islogin == False:\n",
    "            print(\"Login Req\")\n",
    "        else:\n",
    "            return func(islogin)\n",
    "\n",
    "    return inner\n",
    "\n",
    "\n",
    "\n",
    "def home_page(islogin):\n",
    "    print(\"Home Page\")\n",
    "def about_page(islogin):\n",
    "    print(\"About Page\")\n",
    "\n",
    "@login_req\n",
    "def order_page(islogin):\n",
    "    print(\"Order Page\")\n",
    "@login_req\n",
    "def profile_page(islogin):\n",
    "    print(\"Profile Page\")\n",
    "\n",
    "home_page(False)    # Home Page\n",
    "about_page(False)   # About Page\n",
    "order_page(False)   \n",
    "profile_page(False)"
   ]
  },
  {
   "cell_type": "code",
   "execution_count": 22,
   "id": "30a16212-c324-4cbc-b324-14d667ddc9b9",
   "metadata": {},
   "outputs": [
    {
     "name": "stdout",
     "output_type": "stream",
     "text": [
      "rahul\n",
      "sonia\n"
     ]
    }
   ],
   "source": [
    "def display(name):\n",
    "    print(name)\n",
    "\n",
    "\n",
    "display(\"rahul\")\n",
    "display(\"sonia\")"
   ]
  },
  {
   "cell_type": "code",
   "execution_count": 27,
   "id": "32df06a0-1d9a-4783-ba6f-91d7f64dd330",
   "metadata": {},
   "outputs": [
    {
     "name": "stdout",
     "output_type": "stream",
     "text": [
      "*****\n"
     ]
    },
    {
     "data": {
      "text/plain": [
       "'HiYASIN'"
      ]
     },
     "execution_count": 27,
     "metadata": {},
     "output_type": "execute_result"
    }
   ],
   "source": [
    "def change_case(func):\n",
    "    def inner(name):\n",
    "        return \"Hi\"+name.upper()\n",
    "    return inner\n",
    "\n",
    "@change_case\n",
    "def display(name):\n",
    "    print(name)\n",
    "\n",
    "\n",
    "display(\"rahul\")\n",
    "print(\"*****\")\n",
    "display(\"yasin\")"
   ]
  },
  {
   "cell_type": "code",
   "execution_count": 28,
   "id": "08e83ce8-14ca-4011-b6d6-9b1823ec070f",
   "metadata": {},
   "outputs": [
    {
     "name": "stdout",
     "output_type": "stream",
     "text": [
      "2.0\n",
      "10.0\n",
      "GM\n"
     ]
    }
   ],
   "source": [
    "def calc(a,b):\n",
    "    print(a/b)\n",
    "\n",
    "calc(10,5)\n",
    "calc(10,1)\n",
    "print(\"GM\")"
   ]
  },
  {
   "cell_type": "code",
   "execution_count": 32,
   "id": "a5179ba4-fe58-4725-bd35-9c8dc1874cfe",
   "metadata": {},
   "outputs": [
    {
     "name": "stdout",
     "output_type": "stream",
     "text": [
      "2.0\n"
     ]
    },
    {
     "ename": "ZeroDivisionError",
     "evalue": "division by zero",
     "output_type": "error",
     "traceback": [
      "\u001b[1;31m---------------------------------------------------------------------------\u001b[0m",
      "\u001b[1;31mZeroDivisionError\u001b[0m                         Traceback (most recent call last)",
      "Cell \u001b[1;32mIn[32], line 5\u001b[0m\n\u001b[0;32m      2\u001b[0m     \u001b[38;5;28mprint\u001b[39m(a\u001b[38;5;241m/\u001b[39mb)\n\u001b[0;32m      4\u001b[0m calc(\u001b[38;5;241m10\u001b[39m,\u001b[38;5;241m5\u001b[39m)\n\u001b[1;32m----> 5\u001b[0m \u001b[43mcalc\u001b[49m\u001b[43m(\u001b[49m\u001b[38;5;241;43m10\u001b[39;49m\u001b[43m,\u001b[49m\u001b[38;5;241;43m0\u001b[39;49m\u001b[43m)\u001b[49m\n\u001b[0;32m      6\u001b[0m \u001b[38;5;28mprint\u001b[39m(\u001b[38;5;124m\"\u001b[39m\u001b[38;5;124mGM\u001b[39m\u001b[38;5;124m\"\u001b[39m)\n",
      "Cell \u001b[1;32mIn[32], line 2\u001b[0m, in \u001b[0;36mcalc\u001b[1;34m(a, b)\u001b[0m\n\u001b[0;32m      1\u001b[0m \u001b[38;5;28;01mdef\u001b[39;00m \u001b[38;5;21mcalc\u001b[39m(a,b):\n\u001b[1;32m----> 2\u001b[0m     \u001b[38;5;28mprint\u001b[39m(\u001b[43ma\u001b[49m\u001b[38;5;241;43m/\u001b[39;49m\u001b[43mb\u001b[49m)\n",
      "\u001b[1;31mZeroDivisionError\u001b[0m: division by zero"
     ]
    }
   ],
   "source": [
    "def calc(a,b):\n",
    "    print(a/b)\n",
    "\n",
    "calc(10,5)\n",
    "calc(10,0)\n",
    "print(\"GM\")"
   ]
  },
  {
   "cell_type": "code",
   "execution_count": 34,
   "id": "f9ee4960-045d-4142-8848-d4a26653c278",
   "metadata": {},
   "outputs": [
    {
     "name": "stdout",
     "output_type": "stream",
     "text": [
      "2.0\n",
      "Can't Divide by zero\n",
      "GM\n"
     ]
    }
   ],
   "source": [
    "def testcase(func):\n",
    "    def inner(a,b):\n",
    "        if b==0:\n",
    "            print(\"Can't Divide by zero\")\n",
    "        else:\n",
    "            return func(a,b)\n",
    "\n",
    "    return inner\n",
    "\n",
    "\n",
    "@testcase\n",
    "def calc(a,b):\n",
    "    print(a/b)\n",
    "\n",
    "calc(10,5)\n",
    "calc(10,0)\n",
    "print(\"GM\")"
   ]
  },
  {
   "cell_type": "code",
   "execution_count": null,
   "id": "e9ed62a8-6ccf-4f72-892b-e33bc0a864a0",
   "metadata": {},
   "outputs": [],
   "source": []
  }
 ],
 "metadata": {
  "kernelspec": {
   "display_name": "Python 3 (ipykernel)",
   "language": "python",
   "name": "python3"
  },
  "language_info": {
   "codemirror_mode": {
    "name": "ipython",
    "version": 3
   },
   "file_extension": ".py",
   "mimetype": "text/x-python",
   "name": "python",
   "nbconvert_exporter": "python",
   "pygments_lexer": "ipython3",
   "version": "3.12.2"
  }
 },
 "nbformat": 4,
 "nbformat_minor": 5
}
