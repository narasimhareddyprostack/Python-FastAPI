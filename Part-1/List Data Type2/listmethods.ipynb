{
 "cells": [
  {
   "cell_type": "code",
   "execution_count": 1,
   "id": "26a95e88-2da9-4681-91d1-01c6d70373a7",
   "metadata": {},
   "outputs": [
    {
     "name": "stdout",
     "output_type": "stream",
     "text": [
      "[10, 15, 20, 30, 40]\n"
     ]
    }
   ],
   "source": [
    "l1  = [10,20,30,40]\n",
    "l1.insert(1,15)\n",
    "print(l1)"
   ]
  },
  {
   "cell_type": "code",
   "execution_count": 3,
   "id": "19c13150-7619-4106-b7f2-1391fde1aff1",
   "metadata": {},
   "outputs": [
    {
     "name": "stdout",
     "output_type": "stream",
     "text": [
      "[10, 15, 30, 40]\n"
     ]
    }
   ],
   "source": [
    "l1  = [10,20,30,40]\n",
    "#       0  1  2  3\n",
    "l1[1] = 15\n",
    "print(l1)"
   ]
  },
  {
   "cell_type": "code",
   "execution_count": 6,
   "id": "500a6a59-cf58-41ca-a905-03d3915d2a5b",
   "metadata": {},
   "outputs": [
    {
     "ename": "IndexError",
     "evalue": "list assignment index out of range",
     "output_type": "error",
     "traceback": [
      "\u001b[1;31m---------------------------------------------------------------------------\u001b[0m",
      "\u001b[1;31mIndexError\u001b[0m                                Traceback (most recent call last)",
      "Cell \u001b[1;32mIn[6], line 4\u001b[0m\n\u001b[0;32m      1\u001b[0m enames\u001b[38;5;241m=\u001b[39m[\u001b[38;5;124m'\u001b[39m\u001b[38;5;124mRahul\u001b[39m\u001b[38;5;124m'\u001b[39m,\u001b[38;5;124m'\u001b[39m\u001b[38;5;124mSonai\u001b[39m\u001b[38;5;124m'\u001b[39m,\u001b[38;5;124m'\u001b[39m\u001b[38;5;124mPriyanka\u001b[39m\u001b[38;5;124m'\u001b[39m]\n\u001b[0;32m      2\u001b[0m \u001b[38;5;66;03m#index    0      1          2 \u001b[39;00m\n\u001b[1;32m----> 4\u001b[0m \u001b[43menames\u001b[49m\u001b[43m[\u001b[49m\u001b[38;5;241;43m300\u001b[39;49m\u001b[43m]\u001b[49m \u001b[38;5;241m=\u001b[39m\u001b[38;5;124m\"\u001b[39m\u001b[38;5;124mModi\u001b[39m\u001b[38;5;124m\"\u001b[39m\n\u001b[0;32m      5\u001b[0m \u001b[38;5;28mprint\u001b[39m(enames)\n",
      "\u001b[1;31mIndexError\u001b[0m: list assignment index out of range"
     ]
    }
   ],
   "source": [
    "enames=['Rahul','Sonai','Priyanka']\n",
    "#index    0      1          2 \n",
    "\n",
    "enames[300] =\"Modi\"\n",
    "print(enames)"
   ]
  },
  {
   "cell_type": "code",
   "execution_count": 7,
   "id": "6b607595-ace7-4f21-bc51-b9b0622f69b1",
   "metadata": {},
   "outputs": [
    {
     "name": "stdout",
     "output_type": "stream",
     "text": [
      "['Rahul', 'Sonai', 'Priyanka', 'Modi']\n"
     ]
    }
   ],
   "source": [
    "enames=['Rahul','Sonai','Priyanka']\n",
    "#index    0      1          2 \n",
    "\n",
    "#enames[300] =\"Modi\"\n",
    "enames.insert(300,\"Modi\")\n",
    "print(enames)"
   ]
  },
  {
   "cell_type": "code",
   "execution_count": 8,
   "id": "69b8c69b-38e2-4095-b244-6580acaf01e3",
   "metadata": {},
   "outputs": [
    {
     "ename": "AttributeError",
     "evalue": "'list' object has no attribute 'kill'",
     "output_type": "error",
     "traceback": [
      "\u001b[1;31m---------------------------------------------------------------------------\u001b[0m",
      "\u001b[1;31mAttributeError\u001b[0m                            Traceback (most recent call last)",
      "Cell \u001b[1;32mIn[8], line 3\u001b[0m\n\u001b[0;32m      1\u001b[0m l1 \u001b[38;5;241m=\u001b[39m [\u001b[38;5;241m10\u001b[39m,\u001b[38;5;241m20\u001b[39m,\u001b[38;5;241m30\u001b[39m]\n\u001b[0;32m      2\u001b[0m l2 \u001b[38;5;241m=\u001b[39m [\u001b[38;5;241m40\u001b[39m,\u001b[38;5;241m50\u001b[39m,\u001b[38;5;241m60\u001b[39m]\n\u001b[1;32m----> 3\u001b[0m \u001b[43ml1\u001b[49m\u001b[38;5;241;43m.\u001b[39;49m\u001b[43mkill\u001b[49m(l2)\n\u001b[0;32m      4\u001b[0m \u001b[38;5;28mprint\u001b[39m(l1)\n",
      "\u001b[1;31mAttributeError\u001b[0m: 'list' object has no attribute 'kill'"
     ]
    }
   ],
   "source": [
    "l1 = [10,20,30]\n",
    "l2 = [40,50,60]\n",
    "l1.kill(l2)\n",
    "print(l1)"
   ]
  },
  {
   "cell_type": "code",
   "execution_count": 9,
   "id": "008b83be-8ddf-4b97-8974-bcb8fd08f465",
   "metadata": {},
   "outputs": [
    {
     "name": "stdout",
     "output_type": "stream",
     "text": [
      "[10, 20, 30, 40, 50, 60]\n"
     ]
    }
   ],
   "source": [
    "l1 = [10,20,30]\n",
    "l2 = [40,50,60]\n",
    "l1.extend(l2)\n",
    "print(l1)"
   ]
  },
  {
   "cell_type": "code",
   "execution_count": 10,
   "id": "c1e4f371-c8bc-47a8-9ae2-ae3fbf452f70",
   "metadata": {},
   "outputs": [
    {
     "ename": "TypeError",
     "evalue": "list.remove() takes exactly one argument (0 given)",
     "output_type": "error",
     "traceback": [
      "\u001b[1;31m---------------------------------------------------------------------------\u001b[0m",
      "\u001b[1;31mTypeError\u001b[0m                                 Traceback (most recent call last)",
      "Cell \u001b[1;32mIn[10], line 2\u001b[0m\n\u001b[0;32m      1\u001b[0m l1 \u001b[38;5;241m=\u001b[39m [\u001b[38;5;241m10\u001b[39m,\u001b[38;5;241m20\u001b[39m,\u001b[38;5;241m30\u001b[39m]\n\u001b[1;32m----> 2\u001b[0m \u001b[43ml1\u001b[49m\u001b[38;5;241;43m.\u001b[39;49m\u001b[43mremove\u001b[49m\u001b[43m(\u001b[49m\u001b[43m)\u001b[49m\n",
      "\u001b[1;31mTypeError\u001b[0m: list.remove() takes exactly one argument (0 given)"
     ]
    }
   ],
   "source": [
    "l1 = [10,20,30]\n",
    "l1.remove()"
   ]
  },
  {
   "cell_type": "code",
   "execution_count": 12,
   "id": "711796eb-229d-471d-bac9-ce5b9ce27636",
   "metadata": {},
   "outputs": [
    {
     "name": "stdout",
     "output_type": "stream",
     "text": [
      "[101, 102, 103]\n"
     ]
    }
   ],
   "source": [
    "eids=[101,102,103,104]\n",
    "eids.remove(104)\n",
    "print(eids)"
   ]
  },
  {
   "cell_type": "code",
   "execution_count": 13,
   "id": "02980b78-a0e4-41d4-babd-71addbf25abd",
   "metadata": {},
   "outputs": [
    {
     "ename": "ValueError",
     "evalue": "list.remove(x): x not in list",
     "output_type": "error",
     "traceback": [
      "\u001b[1;31m---------------------------------------------------------------------------\u001b[0m",
      "\u001b[1;31mValueError\u001b[0m                                Traceback (most recent call last)",
      "Cell \u001b[1;32mIn[13], line 2\u001b[0m\n\u001b[0;32m      1\u001b[0m eids\u001b[38;5;241m=\u001b[39m[\u001b[38;5;241m101\u001b[39m,\u001b[38;5;241m102\u001b[39m,\u001b[38;5;241m103\u001b[39m,\u001b[38;5;241m104\u001b[39m]\n\u001b[1;32m----> 2\u001b[0m \u001b[43meids\u001b[49m\u001b[38;5;241;43m.\u001b[39;49m\u001b[43mremove\u001b[49m\u001b[43m(\u001b[49m\u001b[38;5;241;43m1\u001b[39;49m\u001b[43m)\u001b[49m\n\u001b[0;32m      3\u001b[0m \u001b[38;5;28mprint\u001b[39m(eids)\n",
      "\u001b[1;31mValueError\u001b[0m: list.remove(x): x not in list"
     ]
    }
   ],
   "source": [
    "eids=[101,102,103,104]\n",
    "eids.remove(1)\n",
    "print(eids)"
   ]
  },
  {
   "cell_type": "code",
   "execution_count": 15,
   "id": "7497de94-cbdd-4a4e-8d85-4f675d5f061e",
   "metadata": {},
   "outputs": [
    {
     "name": "stdout",
     "output_type": "stream",
     "text": [
      "[]\n",
      "0\n"
     ]
    }
   ],
   "source": [
    "eids = [101,102,103,104]\n",
    "eids.clear()\n",
    "print(eids)\n",
    "print(len(eids))"
   ]
  },
  {
   "cell_type": "code",
   "execution_count": 16,
   "id": "8be26927-9894-4585-b65d-f89760f95f69",
   "metadata": {},
   "outputs": [
    {
     "ename": "NameError",
     "evalue": "name 'eids' is not defined",
     "output_type": "error",
     "traceback": [
      "\u001b[1;31m---------------------------------------------------------------------------\u001b[0m",
      "\u001b[1;31mNameError\u001b[0m                                 Traceback (most recent call last)",
      "Cell \u001b[1;32mIn[16], line 4\u001b[0m\n\u001b[0;32m      1\u001b[0m eids \u001b[38;5;241m=\u001b[39m [\u001b[38;5;241m101\u001b[39m,\u001b[38;5;241m102\u001b[39m,\u001b[38;5;241m103\u001b[39m,\u001b[38;5;241m104\u001b[39m]\n\u001b[0;32m      3\u001b[0m \u001b[38;5;28;01mdel\u001b[39;00m eids\n\u001b[1;32m----> 4\u001b[0m \u001b[38;5;28mprint\u001b[39m(\u001b[43meids\u001b[49m)\n",
      "\u001b[1;31mNameError\u001b[0m: name 'eids' is not defined"
     ]
    }
   ],
   "source": [
    "eids = [101,102,103,104]\n",
    "\n",
    "del eids\n",
    "print(eids)\n"
   ]
  },
  {
   "cell_type": "code",
   "execution_count": 17,
   "id": "dbf6a998-ff1d-4ea3-9365-da5c6ba66889",
   "metadata": {},
   "outputs": [
    {
     "data": {
      "text/plain": [
       "'\\nList Data Structure Read operation - Methods \\nlist.index()\\nlist.reverse()\\nlist.sort()\\nlist.count()\\n'"
      ]
     },
     "execution_count": 17,
     "metadata": {},
     "output_type": "execute_result"
    }
   ],
   "source": [
    "\n",
    "#List Data Structure Read operation - Methods \n",
    "#list.index()\n",
    "#list.reverse()\n",
    "#list.sort()\n",
    "#list.count()\n",
    "#"
   ]
  },
  {
   "cell_type": "code",
   "execution_count": 18,
   "id": "b523b115-947f-43f7-9589-b6d0b7c70562",
   "metadata": {},
   "outputs": [
    {
     "name": "stdout",
     "output_type": "stream",
     "text": [
      "['Modi', 'Priyanka', 'Rahul', 'sonai']\n"
     ]
    }
   ],
   "source": [
    "enames=['Rahul','sonai','Priyanka','Modi']\n",
    "enames.sort()\n",
    "print(enames)"
   ]
  },
  {
   "cell_type": "code",
   "execution_count": 20,
   "id": "ed640a87-0a29-4b61-805a-25dfe99473b4",
   "metadata": {},
   "outputs": [
    {
     "name": "stdout",
     "output_type": "stream",
     "text": [
      "['sonai', 'Rahul', 'Priyanka', 'Modi']\n"
     ]
    }
   ],
   "source": [
    "enames=['Rahul','sonai','Priyanka','Modi']\n",
    "enames.sort(reverse=True)   # Desending Order\n",
    "print(enames)"
   ]
  },
  {
   "cell_type": "code",
   "execution_count": 22,
   "id": "f6c20f81-22f6-4087-a613-64e3fa078809",
   "metadata": {},
   "outputs": [
    {
     "name": "stdout",
     "output_type": "stream",
     "text": [
      "[10, 15, 99, 555, 9999]\n"
     ]
    }
   ],
   "source": [
    "l1 = [555,10,15,99,9999]\n",
    "l1.sort()   # Asending Order\n",
    "print(l1)  "
   ]
  },
  {
   "cell_type": "code",
   "execution_count": 23,
   "id": "a734d6c2-5f01-4155-a3d8-bbf828f69035",
   "metadata": {},
   "outputs": [
    {
     "name": "stdout",
     "output_type": "stream",
     "text": [
      "[9999, 555, 99, 15, 10]\n"
     ]
    }
   ],
   "source": [
    "l1 = [555,10,15,99,9999]\n",
    "l1.sort(reverse=True)   #Descning Order\n",
    "print(l1)"
   ]
  },
  {
   "cell_type": "code",
   "execution_count": 26,
   "id": "0fda07a7-031d-4fed-9832-edcf90ca94b4",
   "metadata": {},
   "outputs": [
    {
     "name": "stdout",
     "output_type": "stream",
     "text": [
      "2525062550592\n",
      "2525062550592\n"
     ]
    }
   ],
   "source": [
    "l1 = [4,5,6,7]\n",
    "l2 = l1\n",
    "\n",
    "print(id(l1))\n",
    "print(id(l2))"
   ]
  },
  {
   "cell_type": "code",
   "execution_count": 27,
   "id": "248874c3-f2dc-4a33-8535-b37ebd57cfde",
   "metadata": {},
   "outputs": [
    {
     "name": "stdout",
     "output_type": "stream",
     "text": [
      "2525062813696\n",
      "2525062487808\n"
     ]
    }
   ],
   "source": [
    "l1 = [4,5,6,7]\n",
    "l2 = l1.copy()\n",
    "print(id(l1))\n",
    "print(id(l2))"
   ]
  },
  {
   "cell_type": "code",
   "execution_count": 28,
   "id": "f4484a79-7677-4405-8c23-f642c7eccb55",
   "metadata": {},
   "outputs": [
    {
     "ename": "AttributeError",
     "evalue": "'tuple' object has no attribute 'insert'",
     "output_type": "error",
     "traceback": [
      "\u001b[1;31m---------------------------------------------------------------------------\u001b[0m",
      "\u001b[1;31mAttributeError\u001b[0m                            Traceback (most recent call last)",
      "Cell \u001b[1;32mIn[28], line 2\u001b[0m\n\u001b[0;32m      1\u001b[0m t1\u001b[38;5;241m=\u001b[39m (\u001b[38;5;241m10\u001b[39m,\u001b[38;5;241m20\u001b[39m,\u001b[38;5;241m30\u001b[39m,\u001b[38;5;241m40\u001b[39m)\n\u001b[1;32m----> 2\u001b[0m \u001b[43mt1\u001b[49m\u001b[38;5;241;43m.\u001b[39;49m\u001b[43minsert\u001b[49m(\u001b[38;5;241m1\u001b[39m,\u001b[38;5;241m15\u001b[39m)\n",
      "\u001b[1;31mAttributeError\u001b[0m: 'tuple' object has no attribute 'insert'"
     ]
    }
   ],
   "source": [
    "t1= (10,20,30,40)\n",
    "t1.insert(1,15)"
   ]
  },
  {
   "cell_type": "code",
   "execution_count": 29,
   "id": "c9a82c96-e0cc-4339-90ff-d13c33ae6b2c",
   "metadata": {},
   "outputs": [
    {
     "name": "stdout",
     "output_type": "stream",
     "text": [
      "10\n",
      "20\n",
      "30.5\n",
      "10\n",
      "Rahul\n",
      "True\n",
      "False\n"
     ]
    }
   ],
   "source": [
    "t1= (10,20,30.5,10,\"Rahul\",True,False)\n",
    "for ele in t1:\n",
    "    print(ele)"
   ]
  },
  {
   "cell_type": "code",
   "execution_count": null,
   "id": "fe5d9187-9a0c-4323-a864-b789e3b8bfc8",
   "metadata": {},
   "outputs": [],
   "source": []
  }
 ],
 "metadata": {
  "kernelspec": {
   "display_name": "Python 3 (ipykernel)",
   "language": "python",
   "name": "python3"
  },
  "language_info": {
   "codemirror_mode": {
    "name": "ipython",
    "version": 3
   },
   "file_extension": ".py",
   "mimetype": "text/x-python",
   "name": "python",
   "nbconvert_exporter": "python",
   "pygments_lexer": "ipython3",
   "version": "3.12.2"
  }
 },
 "nbformat": 4,
 "nbformat_minor": 5
}
