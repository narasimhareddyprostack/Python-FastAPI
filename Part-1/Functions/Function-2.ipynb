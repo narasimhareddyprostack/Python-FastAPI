{
 "cells": [
  {
   "cell_type": "code",
   "execution_count": 1,
   "id": "620c2abb-d262-4895-9efc-fa6fff3a30d7",
   "metadata": {},
   "outputs": [
    {
     "ename": "NameError",
     "evalue": "name 'calc' is not defined",
     "output_type": "error",
     "traceback": [
      "\u001b[1;31m---------------------------------------------------------------------------\u001b[0m",
      "\u001b[1;31mNameError\u001b[0m                                 Traceback (most recent call last)",
      "Cell \u001b[1;32mIn[1], line 1\u001b[0m\n\u001b[1;32m----> 1\u001b[0m \u001b[43mcalc\u001b[49m(\u001b[38;5;241m100\u001b[39m,\u001b[38;5;241m200\u001b[39m)\n\u001b[0;32m      2\u001b[0m calc(\u001b[38;5;241m200\u001b[39m,\u001b[38;5;241m100\u001b[39m)\n",
      "\u001b[1;31mNameError\u001b[0m: name 'calc' is not defined"
     ]
    }
   ],
   "source": [
    "calc(100,200)\n",
    "calc(200,100)"
   ]
  },
  {
   "cell_type": "code",
   "execution_count": 2,
   "id": "f2d9023a-a624-4c85-935c-03ac9d0e0253",
   "metadata": {},
   "outputs": [
    {
     "ename": "NameError",
     "evalue": "name 'a' is not defined",
     "output_type": "error",
     "traceback": [
      "\u001b[1;31m---------------------------------------------------------------------------\u001b[0m",
      "\u001b[1;31mNameError\u001b[0m                                 Traceback (most recent call last)",
      "Cell \u001b[1;32mIn[2], line 1\u001b[0m\n\u001b[1;32m----> 1\u001b[0m \u001b[38;5;28mprint\u001b[39m(\u001b[43ma\u001b[49m)\n",
      "\u001b[1;31mNameError\u001b[0m: name 'a' is not defined"
     ]
    }
   ],
   "source": [
    "print(a)"
   ]
  },
  {
   "cell_type": "code",
   "execution_count": 3,
   "id": "e29adad0-067e-4d69-80b6-7e1d52f886c4",
   "metadata": {},
   "outputs": [
    {
     "name": "stdout",
     "output_type": "stream",
     "text": [
      "300\n",
      "300\n"
     ]
    }
   ],
   "source": [
    "def calc(a,b):\n",
    "    print(a+b)\n",
    "\n",
    "calc(100,200)\n",
    "calc(200,100)"
   ]
  },
  {
   "cell_type": "code",
   "execution_count": 4,
   "id": "3c01843c-0ed9-46a6-a314-e0dc6a10d370",
   "metadata": {},
   "outputs": [
    {
     "name": "stdout",
     "output_type": "stream",
     "text": [
      "-100\n",
      "100\n"
     ]
    }
   ],
   "source": [
    "def calc(a,b):\n",
    "    print(a-b)\n",
    "\n",
    "calc(100,200)\n",
    "calc(200,100)"
   ]
  },
  {
   "cell_type": "code",
   "execution_count": 5,
   "id": "1cf2ce94-2789-40eb-b7c3-3c41b5619423",
   "metadata": {},
   "outputs": [
    {
     "name": "stdout",
     "output_type": "stream",
     "text": [
      "-100\n",
      "-100\n"
     ]
    }
   ],
   "source": [
    "def calc(a,b):\n",
    "    print(a-b)\n",
    "\n",
    "calc(a=100,b=200)\n",
    "calc(b=200,a=100)"
   ]
  },
  {
   "cell_type": "code",
   "execution_count": 7,
   "id": "5b7ac8cf-f8d5-4375-8c36-223335a6c902",
   "metadata": {},
   "outputs": [
    {
     "name": "stdout",
     "output_type": "stream",
     "text": [
      "60\n"
     ]
    }
   ],
   "source": [
    "def calc(a,b,c):\n",
    "    print(a+b+c)\n",
    "\n",
    "\n",
    "calc(10,20,30)\n",
    "#calc(10,20)\n",
    "#calc(1,2)"
   ]
  },
  {
   "cell_type": "code",
   "execution_count": 9,
   "id": "adefb899-96e9-454a-bb3f-0b9f28b67b3d",
   "metadata": {},
   "outputs": [
    {
     "name": "stdout",
     "output_type": "stream",
     "text": [
      "60\n",
      "31\n",
      "4\n"
     ]
    }
   ],
   "source": [
    "def calc(a,b,c=1):\n",
    "    print(a+b+c)\n",
    "\n",
    "\n",
    "calc(10,20,30)   #60\n",
    "calc(10,20)      #31 \n",
    "calc(1,2)"
   ]
  },
  {
   "cell_type": "code",
   "execution_count": 10,
   "id": "3bbdc38b-09dd-4473-808a-9f48c994da1a",
   "metadata": {},
   "outputs": [
    {
     "ename": "SyntaxError",
     "evalue": "parameter without a default follows parameter with a default (2738109477.py, line 1)",
     "output_type": "error",
     "traceback": [
      "\u001b[1;36m  Cell \u001b[1;32mIn[10], line 1\u001b[1;36m\u001b[0m\n\u001b[1;33m    def calc(a=1,b,c):\u001b[0m\n\u001b[1;37m                 ^\u001b[0m\n\u001b[1;31mSyntaxError\u001b[0m\u001b[1;31m:\u001b[0m parameter without a default follows parameter with a default\n"
     ]
    }
   ],
   "source": [
    "def calc(a=1,b,c):\n",
    "    print(a+b+c)\n",
    "\n",
    "\n",
    "calc(10,20,30)   #60\n",
    "calc(10,20)      #31 \n",
    "calc(1,2)"
   ]
  },
  {
   "cell_type": "code",
   "execution_count": 11,
   "id": "bcd5aa29-b2ad-4a6f-8399-56ce9c6cbf19",
   "metadata": {},
   "outputs": [
    {
     "name": "stdout",
     "output_type": "stream",
     "text": [
      "()\n",
      "(10,)\n",
      "(10, 20)\n",
      "(10, 20, 30)\n",
      "(10, 20, 30, 40)\n",
      "(10, 20, 30, 40, 50)\n"
     ]
    }
   ],
   "source": [
    "def calc(*a):\n",
    "    print(a)\n",
    "    \n",
    "calc()\n",
    "calc(10)\n",
    "calc(10,20)\n",
    "calc(10,20,30)\n",
    "calc(10,20,30,40)\n",
    "calc(10,20,30,40,50)"
   ]
  },
  {
   "cell_type": "code",
   "execution_count": 12,
   "id": "60b875e4-fbc9-4c75-966d-16e4b11e38ba",
   "metadata": {},
   "outputs": [
    {
     "name": "stdout",
     "output_type": "stream",
     "text": [
      "100\n",
      "150\n"
     ]
    }
   ],
   "source": [
    "def calc(*a):\n",
    "    print(sum(a))\n",
    "    \n",
    "\n",
    "calc(10,20,30,40)\n",
    "calc(10,20,30,40,50)"
   ]
  },
  {
   "cell_type": "code",
   "execution_count": 13,
   "id": "94c59ba3-fba6-48a2-87d4-78869c5eae61",
   "metadata": {},
   "outputs": [
    {
     "name": "stdout",
     "output_type": "stream",
     "text": [
      "Outer function\n"
     ]
    },
    {
     "ename": "NameError",
     "evalue": "name 'inner' is not defined",
     "output_type": "error",
     "traceback": [
      "\u001b[1;31m---------------------------------------------------------------------------\u001b[0m",
      "\u001b[1;31mNameError\u001b[0m                                 Traceback (most recent call last)",
      "Cell \u001b[1;32mIn[13], line 9\u001b[0m\n\u001b[0;32m      6\u001b[0m         \u001b[38;5;28mprint\u001b[39m(\u001b[38;5;124m\"\u001b[39m\u001b[38;5;124mInner Function\u001b[39m\u001b[38;5;124m\"\u001b[39m)\n\u001b[0;32m      8\u001b[0m outer()\n\u001b[1;32m----> 9\u001b[0m \u001b[43minner\u001b[49m()\n",
      "\u001b[1;31mNameError\u001b[0m: name 'inner' is not defined"
     ]
    }
   ],
   "source": [
    "#what is inner function?\n",
    "#how to invoeke inner funciton from outside?\n",
    "def outer():\n",
    "    print(\"Outer function\")\n",
    "    def inner():\n",
    "        print(\"Inner Function\")\n",
    "\n",
    "outer()\n",
    "inner()"
   ]
  },
  {
   "cell_type": "code",
   "execution_count": 14,
   "id": "4d2d0628-bc8b-437e-aafe-1b391d8ed04b",
   "metadata": {},
   "outputs": [
    {
     "name": "stdout",
     "output_type": "stream",
     "text": [
      "Outer function\n",
      "Inner Function\n",
      "Inner Function\n"
     ]
    }
   ],
   "source": [
    "def outer():\n",
    "    print(\"Outer function\")\n",
    "    def inner():\n",
    "        print(\"Inner Function\")\n",
    "    inner()\n",
    "    inner()\n",
    "\n",
    "outer()\n"
   ]
  },
  {
   "cell_type": "code",
   "execution_count": 15,
   "id": "e1f5ea2b-adf3-435a-81ee-104e4d9cc9aa",
   "metadata": {},
   "outputs": [
    {
     "name": "stdout",
     "output_type": "stream",
     "text": [
      "Outer function\n",
      "100\n"
     ]
    }
   ],
   "source": [
    "def outer():\n",
    "    print(\"Outer function\")\n",
    "    \n",
    "    def inner():\n",
    "        print(\"Inner Function\")\n",
    "        \n",
    "    return 100\n",
    "\n",
    "value=outer()\n",
    "print(value)"
   ]
  },
  {
   "cell_type": "code",
   "execution_count": 18,
   "id": "bf5e2db0-b897-47c5-9779-cb0dd136f189",
   "metadata": {},
   "outputs": [
    {
     "name": "stdout",
     "output_type": "stream",
     "text": [
      "Outer function\n",
      "Inner Function\n",
      "Inner Function\n"
     ]
    }
   ],
   "source": [
    "def outer():\n",
    "    print(\"Outer function\")\n",
    "    \n",
    "    def inner():\n",
    "        print(\"Inner Function\")\n",
    "        \n",
    "    return inner\n",
    "\n",
    "inner=outer()\n",
    "inner()\n",
    "inner()"
   ]
  },
  {
   "cell_type": "code",
   "execution_count": 19,
   "id": "d1680440-589f-499b-a048-e8e995687024",
   "metadata": {},
   "outputs": [
    {
     "name": "stdout",
     "output_type": "stream",
     "text": [
      "<class 'int'>\n"
     ]
    }
   ],
   "source": [
    "a=100\n",
    "print(type(a))"
   ]
  },
  {
   "cell_type": "code",
   "execution_count": 21,
   "id": "35a4c411-86ba-4878-9b2d-b2f3c2bb4b1a",
   "metadata": {},
   "outputs": [
    {
     "name": "stdout",
     "output_type": "stream",
     "text": [
      "<class 'int'>\n",
      "<class 'function'>\n"
     ]
    }
   ],
   "source": [
    "a=100\n",
    "def add(a,b):\n",
    "    print(a+b)\n",
    "\n",
    "print(type(a))\n",
    "print(type(add))"
   ]
  },
  {
   "cell_type": "code",
   "execution_count": 22,
   "id": "0e31933d-0359-4c2c-a469-ee4e42600139",
   "metadata": {},
   "outputs": [
    {
     "name": "stdout",
     "output_type": "stream",
     "text": [
      "<class 'function'>\n"
     ]
    }
   ],
   "source": [
    "add=lambda a,b:a+b\n",
    "print(type(add))\n"
   ]
  },
  {
   "cell_type": "code",
   "execution_count": 23,
   "id": "092c2728-5af3-4c1d-b74c-77c3dfb2237b",
   "metadata": {},
   "outputs": [
    {
     "name": "stdout",
     "output_type": "stream",
     "text": [
      "30\n"
     ]
    }
   ],
   "source": [
    "def add(a,b):\n",
    "    return a+b\n",
    "\n",
    "r1 = add(10,20)\n",
    "print(r1)"
   ]
  },
  {
   "cell_type": "code",
   "execution_count": 24,
   "id": "d68697a9-9a72-46b9-b4e7-35449cba9900",
   "metadata": {},
   "outputs": [
    {
     "name": "stdout",
     "output_type": "stream",
     "text": [
      "30\n"
     ]
    }
   ],
   "source": [
    "add= lambda a,b:a+b\n",
    "\n",
    "r1= add(10,20)\n",
    "print(r1)"
   ]
  },
  {
   "cell_type": "code",
   "execution_count": 25,
   "id": "3072cd2a-a29e-4f7b-9e6a-61d3a31d6093",
   "metadata": {},
   "outputs": [
    {
     "name": "stdout",
     "output_type": "stream",
     "text": [
      "36\n"
     ]
    }
   ],
   "source": [
    "def addplus(mark):\n",
    "    return mark+1\n",
    "\n",
    "print(addplus(35))"
   ]
  },
  {
   "cell_type": "code",
   "execution_count": 26,
   "id": "9ddb2bbb-09d4-4008-98f0-fee387cd9122",
   "metadata": {},
   "outputs": [
    {
     "name": "stdout",
     "output_type": "stream",
     "text": [
      "<class 'map'>\n",
      "[36, 16, 11]\n"
     ]
    }
   ],
   "source": [
    "def addplus(mark):\n",
    "    return mark+1\n",
    "marks=[35,15,10]\n",
    "\n",
    "#map(function,seq) \n",
    "obj=map(addplus,marks)\n",
    "print(type(obj))\n",
    "print(list(obj))"
   ]
  },
  {
   "cell_type": "code",
   "execution_count": 28,
   "id": "9487d2bd-6dcb-4e38-9061-eb3da26b8ba5",
   "metadata": {},
   "outputs": [
    {
     "name": "stdout",
     "output_type": "stream",
     "text": [
      "[36, 11, 16]\n"
     ]
    }
   ],
   "source": [
    " print(list(map(lambda m:m+1,[35,10,15])))"
   ]
  },
  {
   "cell_type": "code",
   "execution_count": null,
   "id": "1b53c6fb-17c8-4d9a-94d3-656188bda066",
   "metadata": {},
   "outputs": [],
   "source": []
  }
 ],
 "metadata": {
  "kernelspec": {
   "display_name": "Python 3 (ipykernel)",
   "language": "python",
   "name": "python3"
  },
  "language_info": {
   "codemirror_mode": {
    "name": "ipython",
    "version": 3
   },
   "file_extension": ".py",
   "mimetype": "text/x-python",
   "name": "python",
   "nbconvert_exporter": "python",
   "pygments_lexer": "ipython3",
   "version": "3.12.2"
  }
 },
 "nbformat": 4,
 "nbformat_minor": 5
}
