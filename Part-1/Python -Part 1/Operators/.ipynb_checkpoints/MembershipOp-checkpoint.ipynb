{
 "cells": [
  {
   "cell_type": "code",
   "execution_count": 1,
   "id": "75c7dc4c-e77e-4efc-adcc-1ebcc8b51e19",
   "metadata": {},
   "outputs": [
    {
     "name": "stdout",
     "output_type": "stream",
     "text": [
      "True\n"
     ]
    }
   ],
   "source": [
    "print('a' in \"Rahul\")"
   ]
  },
  {
   "cell_type": "code",
   "execution_count": 3,
   "id": "fd6eaaf4-f02b-4a45-b8bd-014bbc27632c",
   "metadata": {},
   "outputs": [
    {
     "name": "stdout",
     "output_type": "stream",
     "text": [
      "True\n",
      "False\n"
     ]
    }
   ],
   "source": [
    "ename = \"Rahul\"\n",
    "enames= [\"Rahul\",\"Sonia\",\"Priyanka\",\"Modi\"]\n",
    "t = (10,20,30,40)\n",
    "s = {101,102,103,104}\n",
    "emp= { 'id':101, 'name':'Rahul Gandhi'}\n",
    "\n",
    "print('h' in ename)\n",
    "print('z' in ename)"
   ]
  },
  {
   "cell_type": "code",
   "execution_count": 4,
   "id": "b876a807-363b-4b87-93ab-b510af698e7e",
   "metadata": {},
   "outputs": [
    {
     "name": "stdout",
     "output_type": "stream",
     "text": [
      "True\n"
     ]
    }
   ],
   "source": [
    "enames= [\"Rahul\",\"Sonia\",\"Priyanka\",\"Modi\"]\n",
    "t = (10,20,30,40)\n",
    "s = {101,102,103,104}\n",
    "emp= { 'id':101, 'name':'Rahul Gandhi'}\n",
    "\n",
    "print(\"Sonia\" not in enames)"
   ]
  },
  {
   "cell_type": "code",
   "execution_count": 7,
   "id": "f2a22457-295f-4cd9-a872-d089ec57a629",
   "metadata": {},
   "outputs": [
    {
     "name": "stdout",
     "output_type": "stream",
     "text": [
      "False\n",
      "True\n"
     ]
    }
   ],
   "source": [
    "eids = {101,102,103,104}\n",
    "\n",
    "print(100 in eids)\n",
    "print(100 not in eids)"
   ]
  },
  {
   "cell_type": "code",
   "execution_count": 8,
   "id": "5aa169aa-aa88-4720-958d-78a2b0e5c9dc",
   "metadata": {},
   "outputs": [
    {
     "name": "stdout",
     "output_type": "stream",
     "text": [
      "<class 'dict'>\n"
     ]
    }
   ],
   "source": [
    "emp = {'id':101, 'name':'rahul','sal':45000.00}\n",
    "print(type(emp))\n"
   ]
  },
  {
   "cell_type": "code",
   "execution_count": 11,
   "id": "daad0009-8b5f-4dd5-88c3-b037396f2d01",
   "metadata": {},
   "outputs": [
    {
     "name": "stdout",
     "output_type": "stream",
     "text": [
      "<class 'dict'>\n",
      "True\n",
      "False\n",
      "False\n"
     ]
    }
   ],
   "source": [
    "emp = {'id':101, 'name':'rahul','sal':45000.00}\n",
    "print(type(emp))\n",
    "print('id' in emp)\n",
    "print('rahul' in emp)\n",
    "print('rajni' in emp)"
   ]
  },
  {
   "cell_type": "code",
   "execution_count": null,
   "id": "ca7cf84a-be6b-457c-938e-978bfc7ecf7c",
   "metadata": {},
   "outputs": [],
   "source": []
  }
 ],
 "metadata": {
  "kernelspec": {
   "display_name": "Python 3 (ipykernel)",
   "language": "python",
   "name": "python3"
  },
  "language_info": {
   "codemirror_mode": {
    "name": "ipython",
    "version": 3
   },
   "file_extension": ".py",
   "mimetype": "text/x-python",
   "name": "python",
   "nbconvert_exporter": "python",
   "pygments_lexer": "ipython3",
   "version": "3.12.2"
  }
 },
 "nbformat": 4,
 "nbformat_minor": 5
}
