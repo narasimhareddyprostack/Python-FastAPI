{
 "cells": [
  {
   "cell_type": "code",
   "execution_count": 1,
   "id": "395d35c7-48ef-435f-b61c-4634201cf8b8",
   "metadata": {},
   "outputs": [
    {
     "name": "stdout",
     "output_type": "stream",
     "text": [
      "30.5\n"
     ]
    }
   ],
   "source": [
    "a=10\n",
    "b=20.5\n",
    "print(a+b)"
   ]
  },
  {
   "cell_type": "code",
   "execution_count": 2,
   "id": "30951678-318b-4d70-af06-eeba4031be95",
   "metadata": {},
   "outputs": [
    {
     "ename": "TypeError",
     "evalue": "unsupported operand type(s) for +: 'int' and 'str'",
     "output_type": "error",
     "traceback": [
      "\u001b[1;31m---------------------------------------------------------------------\u001b[0m",
      "\u001b[1;31mTypeError\u001b[0m                           Traceback (most recent call last)",
      "Cell \u001b[1;32mIn[2], line 3\u001b[0m\n\u001b[0;32m      1\u001b[0m a\u001b[38;5;241m=\u001b[39m\u001b[38;5;241m10\u001b[39m\n\u001b[0;32m      2\u001b[0m b\u001b[38;5;241m=\u001b[39m\u001b[38;5;124m\"\u001b[39m\u001b[38;5;124mten\u001b[39m\u001b[38;5;124m\"\u001b[39m\n\u001b[1;32m----> 3\u001b[0m \u001b[38;5;28mprint\u001b[39m(\u001b[43ma\u001b[49m\u001b[38;5;241;43m+\u001b[39;49m\u001b[43mb\u001b[49m)\n",
      "\u001b[1;31mTypeError\u001b[0m: unsupported operand type(s) for +: 'int' and 'str'"
     ]
    }
   ],
   "source": [
    "a=10\n",
    "b=\"ten\"\n",
    "print(a+b)"
   ]
  },
  {
   "cell_type": "code",
   "execution_count": 3,
   "id": "ebc88a46-13c5-4611-bf3c-8bfeb10d06da",
   "metadata": {},
   "outputs": [
    {
     "name": "stdout",
     "output_type": "stream",
     "text": [
      "RahulGandhi\n"
     ]
    }
   ],
   "source": [
    "fname= \"Rahul\"\n",
    "lname= \"Gandhi\"\n",
    "print(fname + lname)"
   ]
  },
  {
   "cell_type": "code",
   "execution_count": 4,
   "id": "aaf7e7ed-0b56-4116-b9aa-b08f23db529a",
   "metadata": {},
   "outputs": [
    {
     "name": "stdout",
     "output_type": "stream",
     "text": [
      "30\n",
      "40.5\n"
     ]
    },
    {
     "ename": "TypeError",
     "evalue": "unsupported operand type(s) for +: 'int' and 'str'",
     "output_type": "error",
     "traceback": [
      "\u001b[1;31m---------------------------------------------------------------------\u001b[0m",
      "\u001b[1;31mTypeError\u001b[0m                           Traceback (most recent call last)",
      "Cell \u001b[1;32mIn[4], line 7\u001b[0m\n\u001b[0;32m      5\u001b[0m \u001b[38;5;28mprint\u001b[39m(a\u001b[38;5;241m+\u001b[39mb)   \u001b[38;5;66;03m# 30\u001b[39;00m\n\u001b[0;32m      6\u001b[0m \u001b[38;5;28mprint\u001b[39m(a\u001b[38;5;241m+\u001b[39mc)  \u001b[38;5;66;03m#40.5\u001b[39;00m\n\u001b[1;32m----> 7\u001b[0m \u001b[38;5;28mprint\u001b[39m(\u001b[43ma\u001b[49m\u001b[38;5;241;43m+\u001b[39;49m\u001b[43md\u001b[49m)\n",
      "\u001b[1;31mTypeError\u001b[0m: unsupported operand type(s) for +: 'int' and 'str'"
     ]
    }
   ],
   "source": [
    "a=10\n",
    "b=20\n",
    "c=30.5\n",
    "d = \"40\"\n",
    "print(a+b)   # 30\n",
    "print(a+c)  #40.5\n",
    "print(a+d)"
   ]
  },
  {
   "cell_type": "code",
   "execution_count": 5,
   "id": "a7b7ca8a-dd71-420f-a549-dddd45546d84",
   "metadata": {},
   "outputs": [
    {
     "name": "stdout",
     "output_type": "stream",
     "text": [
      "30\n",
      "40.5\n"
     ]
    }
   ],
   "source": [
    "a=10\n",
    "b=20\n",
    "c=30.5\n",
    "d = \"40\"\n",
    "print(a+b)   # 30\n",
    "print(a+c)  #40.5"
   ]
  },
  {
   "cell_type": "code",
   "execution_count": 6,
   "id": "3215d2fd-e37a-4e27-9057-d780d70d75e2",
   "metadata": {},
   "outputs": [
    {
     "ename": "TypeError",
     "evalue": "unsupported operand type(s) for +: 'int' and 'str'",
     "output_type": "error",
     "traceback": [
      "\u001b[1;31m---------------------------------------------------------------------\u001b[0m",
      "\u001b[1;31mTypeError\u001b[0m                           Traceback (most recent call last)",
      "Cell \u001b[1;32mIn[6], line 1\u001b[0m\n\u001b[1;32m----> 1\u001b[0m \u001b[38;5;28mprint\u001b[39m(\u001b[38;5;241;43m10\u001b[39;49m\u001b[38;5;241;43m+\u001b[39;49m\u001b[38;5;124;43m\"\u001b[39;49m\u001b[38;5;124;43mRahul\u001b[39;49m\u001b[38;5;124;43m\"\u001b[39;49m)\n",
      "\u001b[1;31mTypeError\u001b[0m: unsupported operand type(s) for +: 'int' and 'str'"
     ]
    }
   ],
   "source": [
    "print(10+\"Rahul\")"
   ]
  },
  {
   "cell_type": "code",
   "execution_count": 7,
   "id": "0cbeecf4-e814-4af6-9376-a70bd3a2d655",
   "metadata": {},
   "outputs": [
    {
     "name": "stdout",
     "output_type": "stream",
     "text": [
      "RahulRahulRahulRahulRahulRahulRahulRahulRahulRahul\n"
     ]
    }
   ],
   "source": [
    "print(\"Rahul\" * 10)"
   ]
  },
  {
   "cell_type": "code",
   "execution_count": 8,
   "id": "aee1b6e5-e96f-4e52-82bc-16b854148104",
   "metadata": {},
   "outputs": [
    {
     "name": "stdout",
     "output_type": "stream",
     "text": [
      "RahulRahulRahulRahulRahulRahulRahulRahulRahulRahulRahulRahulRahulRahulRahulRahulRahulRahulRahulRahulRahulRahulRahulRahulRahulRahulRahulRahulRahulRahulRahulRahulRahulRahulRahulRahulRahulRahulRahulRahulRahulRahulRahulRahulRahulRahulRahulRahulRahulRahulRahulRahulRahulRahulRahulRahulRahulRahulRahulRahulRahulRahulRahulRahulRahulRahulRahulRahulRahulRahulRahulRahulRahulRahulRahulRahulRahulRahulRahulRahulRahulRahulRahulRahulRahulRahulRahulRahulRahulRahulRahulRahulRahulRahulRahulRahulRahulRahulRahulRahul\n"
     ]
    }
   ],
   "source": [
    "print(\"Rahul\" * 100)"
   ]
  },
  {
   "cell_type": "code",
   "execution_count": 9,
   "id": "180b0e3a-00b7-44ad-a00a-de24d818ace0",
   "metadata": {},
   "outputs": [
    {
     "name": "stdout",
     "output_type": "stream",
     "text": [
      "205.0\n",
      "tentententententententententen\n"
     ]
    }
   ],
   "source": [
    "a= 10\n",
    "b=20.5\n",
    "c = \"ten\"\n",
    "print(a*b)  # 205.0\n",
    "print(a*c) #tententententententententententen"
   ]
  },
  {
   "cell_type": "code",
   "execution_count": null,
   "id": "43529016-a01f-4840-9fab-a1346c60de91",
   "metadata": {},
   "outputs": [],
   "source": []
  }
 ],
 "metadata": {
  "kernelspec": {
   "display_name": "Python 3 (ipykernel)",
   "language": "python",
   "name": "python3"
  },
  "language_info": {
   "codemirror_mode": {
    "name": "ipython",
    "version": 3
   },
   "file_extension": ".py",
   "mimetype": "text/x-python",
   "name": "python",
   "nbconvert_exporter": "python",
   "pygments_lexer": "ipython3",
   "version": "3.12.2"
  }
 },
 "nbformat": 4,
 "nbformat_minor": 5
}
