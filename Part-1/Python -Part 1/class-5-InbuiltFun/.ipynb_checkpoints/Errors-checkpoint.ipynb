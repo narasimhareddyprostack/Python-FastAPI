{
 "cells": [
  {
   "cell_type": "code",
   "execution_count": 1,
   "id": "4384b403-8b93-4b34-8a72-ab9e7fa0f594",
   "metadata": {},
   "outputs": [
    {
     "name": "stdout",
     "output_type": "stream",
     "text": [
      "[10, 20, 30]\n",
      "<class 'list'>\n"
     ]
    }
   ],
   "source": [
    "l=[10,20,30]\n",
    "print(l)\n",
    "print(type(l))"
   ]
  },
  {
   "cell_type": "code",
   "execution_count": 3,
   "id": "a01d7824-8208-40ba-a8bf-8cc41730463d",
   "metadata": {},
   "outputs": [
    {
     "name": "stdout",
     "output_type": "stream",
     "text": [
      "None\n"
     ]
    }
   ],
   "source": [
    "l=[10,20,30]\n",
    "print(l.remove(10))"
   ]
  },
  {
   "cell_type": "code",
   "execution_count": 4,
   "id": "20023844-d866-41d8-8587-bab49cf98ccd",
   "metadata": {},
   "outputs": [
    {
     "name": "stdout",
     "output_type": "stream",
     "text": [
      "None\n",
      "[20, 30, 5]\n"
     ]
    }
   ],
   "source": [
    "l=[10,20,30]\n",
    "print(l.remove(10))\n",
    "l.append(5)\n",
    "print(l)"
   ]
  },
  {
   "cell_type": "code",
   "execution_count": 5,
   "id": "fe43ccfa-a82c-4222-8783-428ec2fc6fee",
   "metadata": {},
   "outputs": [
    {
     "name": "stdout",
     "output_type": "stream",
     "text": [
      "None\n",
      "[20, 30, 5]\n"
     ]
    },
    {
     "ename": "AttributeError",
     "evalue": "'list' object has no attribute 'movies'",
     "output_type": "error",
     "traceback": [
      "\u001b[1;31m---------------------------------------------------------------------------\u001b[0m",
      "\u001b[1;31mAttributeError\u001b[0m                            Traceback (most recent call last)",
      "Cell \u001b[1;32mIn[5], line 6\u001b[0m\n\u001b[0;32m      3\u001b[0m l\u001b[38;5;241m.\u001b[39mappend(\u001b[38;5;241m5\u001b[39m)\n\u001b[0;32m      4\u001b[0m \u001b[38;5;28mprint\u001b[39m(l)\n\u001b[1;32m----> 6\u001b[0m \u001b[43ml\u001b[49m\u001b[38;5;241;43m.\u001b[39;49m\u001b[43mmovies\u001b[49m()\n",
      "\u001b[1;31mAttributeError\u001b[0m: 'list' object has no attribute 'movies'"
     ]
    }
   ],
   "source": [
    "l=[10,20,30]\n",
    "print(l.remove(10))\n",
    "l.append(5)\n",
    "print(l)\n",
    "\n",
    "l.movies()\n"
   ]
  },
  {
   "cell_type": "code",
   "execution_count": 7,
   "id": "d9f20e89-8101-4e5d-9e0b-4194a66bb758",
   "metadata": {},
   "outputs": [
    {
     "ename": "IndentationError",
     "evalue": "expected an indented block after function definition on line 1 (3196787441.py, line 2)",
     "output_type": "error",
     "traceback": [
      "\u001b[1;36m  Cell \u001b[1;32mIn[7], line 2\u001b[1;36m\u001b[0m\n\u001b[1;33m    a=10\u001b[0m\n\u001b[1;37m    ^\u001b[0m\n\u001b[1;31mIndentationError\u001b[0m\u001b[1;31m:\u001b[0m expected an indented block after function definition on line 1\n"
     ]
    }
   ],
   "source": [
    "def add():\n",
    "a=10\n",
    "b=20"
   ]
  },
  {
   "cell_type": "code",
   "execution_count": 8,
   "id": "5e2ac632-85f8-4e6c-94b7-79491f47f0f7",
   "metadata": {},
   "outputs": [],
   "source": [
    "def add():\n",
    "    a=10\n",
    "    b=20"
   ]
  },
  {
   "cell_type": "code",
   "execution_count": 9,
   "id": "238cb3ff-eaab-4d7b-b94f-1db285e8586c",
   "metadata": {},
   "outputs": [
    {
     "name": "stdout",
     "output_type": "stream",
     "text": [
      "VS\n"
     ]
    }
   ],
   "source": [
    "hero=\"VS\"\n",
    "\n",
    "print(hero)"
   ]
  },
  {
   "cell_type": "code",
   "execution_count": 10,
   "id": "0f74a494-fb9f-4fa7-b697-8a0259a778ba",
   "metadata": {},
   "outputs": [
    {
     "name": "stdout",
     "output_type": "stream",
     "text": [
      "VS\n"
     ]
    },
    {
     "ename": "NameError",
     "evalue": "name 'actress' is not defined",
     "output_type": "error",
     "traceback": [
      "\u001b[1;31m---------------------------------------------------------------------------\u001b[0m",
      "\u001b[1;31mNameError\u001b[0m                                 Traceback (most recent call last)",
      "Cell \u001b[1;32mIn[10], line 4\u001b[0m\n\u001b[0;32m      1\u001b[0m hero\u001b[38;5;241m=\u001b[39m\u001b[38;5;124m\"\u001b[39m\u001b[38;5;124mVS\u001b[39m\u001b[38;5;124m\"\u001b[39m\n\u001b[0;32m      3\u001b[0m \u001b[38;5;28mprint\u001b[39m(hero)\n\u001b[1;32m----> 4\u001b[0m \u001b[38;5;28mprint\u001b[39m(\u001b[43mactress\u001b[49m)\n",
      "\u001b[1;31mNameError\u001b[0m: name 'actress' is not defined"
     ]
    }
   ],
   "source": [
    "hero=\"VS\"\n",
    "\n",
    "print(hero)\n",
    "print(actress)"
   ]
  },
  {
   "cell_type": "code",
   "execution_count": 11,
   "id": "a3205fcc-79f0-44aa-ab6f-665f70621be5",
   "metadata": {},
   "outputs": [
    {
     "name": "stdout",
     "output_type": "stream",
     "text": [
      "99\n",
      "35\n"
     ]
    }
   ],
   "source": [
    "marks=[35,36,37,38,99]\n",
    "print(marks[-1])\n",
    "print(marks[0])"
   ]
  },
  {
   "cell_type": "code",
   "execution_count": 12,
   "id": "c35564e0-5876-408d-a797-3eb67e360f5e",
   "metadata": {},
   "outputs": [
    {
     "name": "stdout",
     "output_type": "stream",
     "text": [
      "99\n",
      "35\n"
     ]
    },
    {
     "ename": "IndexError",
     "evalue": "list index out of range",
     "output_type": "error",
     "traceback": [
      "\u001b[1;31m---------------------------------------------------------------------------\u001b[0m",
      "\u001b[1;31mIndexError\u001b[0m                                Traceback (most recent call last)",
      "Cell \u001b[1;32mIn[12], line 4\u001b[0m\n\u001b[0;32m      2\u001b[0m \u001b[38;5;28mprint\u001b[39m(marks[\u001b[38;5;241m-\u001b[39m\u001b[38;5;241m1\u001b[39m])\n\u001b[0;32m      3\u001b[0m \u001b[38;5;28mprint\u001b[39m(marks[\u001b[38;5;241m0\u001b[39m])\n\u001b[1;32m----> 4\u001b[0m \u001b[38;5;28mprint\u001b[39m(\u001b[43mmarks\u001b[49m\u001b[43m[\u001b[49m\u001b[38;5;241;43m180\u001b[39;49m\u001b[43m]\u001b[49m)\n",
      "\u001b[1;31mIndexError\u001b[0m: list index out of range"
     ]
    }
   ],
   "source": [
    "marks=[35,36,37,38,99]\n",
    "print(marks[-1])\n",
    "print(marks[0])\n",
    "print(marks[180])\n"
   ]
  },
  {
   "cell_type": "code",
   "execution_count": null,
   "id": "3e396b17-7a79-480d-96b3-c0dab2094d1e",
   "metadata": {},
   "outputs": [],
   "source": []
  }
 ],
 "metadata": {
  "kernelspec": {
   "display_name": "Python 3 (ipykernel)",
   "language": "python",
   "name": "python3"
  },
  "language_info": {
   "codemirror_mode": {
    "name": "ipython",
    "version": 3
   },
   "file_extension": ".py",
   "mimetype": "text/x-python",
   "name": "python",
   "nbconvert_exporter": "python",
   "pygments_lexer": "ipython3",
   "version": "3.12.2"
  }
 },
 "nbformat": 4,
 "nbformat_minor": 5
}
