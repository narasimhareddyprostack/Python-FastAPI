{
 "cells": [
  {
   "cell_type": "code",
   "execution_count": 1,
   "id": "6b994b7c-b17e-4e9d-b9d9-9e0e687d88ce",
   "metadata": {},
   "outputs": [
    {
     "name": "stdout",
     "output_type": "stream",
     "text": [
      "<class 'int'>\n",
      "<class 'float'>\n",
      "<class 'str'>\n",
      "<class 'bool'>\n",
      "<class 'complex'>\n",
      "<class 'list'>\n",
      "<class 'tuple'>\n",
      "<class 'set'>\n",
      "<class 'dict'>\n",
      "<class 'bytes'>\n",
      "<class 'bytearray'>\n",
      "<class 'frozenset'>\n",
      "<class 'range'>\n",
      "<class 'NoneType'>\n"
     ]
    }
   ],
   "source": [
    "eid=101\n",
    "esal=45000.45\n",
    "ename='Rahul'\n",
    "avail = False\n",
    "c=10+20j\n",
    "loc=['Wayanad','New Delhi','Banglaore']\n",
    "color=('R','B','G')\n",
    "eids={101,102,103,104}\n",
    "emp={\n",
    "    'id':101,\n",
    "    'name':\"Rahul Gandhi\"\n",
    "}\n",
    "b = bytes([100,110,120,130])\n",
    "ba=bytearray([100,110,120,130]);\n",
    "fz=frozenset([101,102,103])\n",
    "r = range(10)\n",
    "\n",
    "def add():\n",
    "    pass\n",
    "\n",
    "print(type(eid))\n",
    "print(type(esal))\n",
    "print(type(ename))\n",
    "print(type(avail))\n",
    "print(type(c))\n",
    "print(type(loc))\n",
    "print(type(color))\n",
    "print(type(eids))\n",
    "print(type(emp))\n",
    "print(type(b))\n",
    "print(type(ba))\n",
    "print(type(fz))\n",
    "print(type(r))\n",
    "print(type(add()))"
   ]
  },
  {
   "cell_type": "code",
   "execution_count": 1,
   "id": "4e774617-0400-491f-b40f-afac47b898ec",
   "metadata": {},
   "outputs": [
    {
     "ename": "IndentationError",
     "evalue": "expected an indented block after function definition on line 1 (537184657.py, line 2)",
     "output_type": "error",
     "traceback": [
      "\u001b[1;36m  Cell \u001b[1;32mIn[1], line 2\u001b[1;36m\u001b[0m\n\u001b[1;33m    pass\u001b[0m\n\u001b[1;37m    ^\u001b[0m\n\u001b[1;31mIndentationError\u001b[0m\u001b[1;31m:\u001b[0m expected an indented block after function definition on line 1\n"
     ]
    }
   ],
   "source": [
    "def add():\n",
    "pass"
   ]
  },
  {
   "cell_type": "code",
   "execution_count": null,
   "id": "d068f56b-3e6a-42d6-aaa1-38ff535537a9",
   "metadata": {},
   "outputs": [],
   "source": []
  }
 ],
 "metadata": {
  "kernelspec": {
   "display_name": "Python 3 (ipykernel)",
   "language": "python",
   "name": "python3"
  },
  "language_info": {
   "codemirror_mode": {
    "name": "ipython",
    "version": 3
   },
   "file_extension": ".py",
   "mimetype": "text/x-python",
   "name": "python",
   "nbconvert_exporter": "python",
   "pygments_lexer": "ipython3",
   "version": "3.12.2"
  }
 },
 "nbformat": 4,
 "nbformat_minor": 5
}
