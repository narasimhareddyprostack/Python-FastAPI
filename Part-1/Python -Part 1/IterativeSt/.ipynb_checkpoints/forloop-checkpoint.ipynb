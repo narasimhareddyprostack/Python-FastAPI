{
 "cells": [
  {
   "cell_type": "code",
   "execution_count": 1,
   "id": "b2719b6c-91dd-4aad-bc37-eb0f28f1c3cc",
   "metadata": {},
   "outputs": [],
   "source": [
    "#print 1,2,3,4,5\n",
    "#print 1,2,3,4,5\n",
    "#print \"GM\" 20 times\n",
    "# print 10 .... 50\n",
    "# first even number 0,2,4,6,8,10,12,14,16,18\n",
    "#print 7 table\n"
   ]
  },
  {
   "cell_type": "code",
   "execution_count": 2,
   "id": "bb01a93f-daf0-4d7b-b080-f5cbf8a8cc26",
   "metadata": {},
   "outputs": [
    {
     "name": "stdout",
     "output_type": "stream",
     "text": [
      "0  2  4  6  8  10  12  14  16  18  "
     ]
    }
   ],
   "source": [
    "# first even number 0,2,4,6,8,10,12,14,16,18\n",
    "\n",
    "for x in range(0,19,2):\n",
    "    print(x,end=\"  \")"
   ]
  },
  {
   "cell_type": "code",
   "execution_count": 3,
   "id": "58c10d4e-f704-4d29-b5a5-31325083c035",
   "metadata": {},
   "outputs": [
    {
     "name": "stdout",
     "output_type": "stream",
     "text": [
      "0  2  4  6  8  10  12  14  16  18  "
     ]
    }
   ],
   "source": [
    "# first even number 0,2,4,6,8,10,12,14,16,18\n",
    "i=0\n",
    "while i<19:\n",
    "    print(i,end=\"  \")\n",
    "    i=i+2"
   ]
  },
  {
   "cell_type": "code",
   "execution_count": null,
   "id": "2793427f-12be-479a-92c2-90fae6ddb132",
   "metadata": {},
   "outputs": [],
   "source": [
    "i=1\n",
    "while i<=10:\n",
    "    if i==5:\n",
    "        continue\n",
    "    else:\n",
    "        print(i)\n",
    "    i=i+1"
   ]
  },
  {
   "cell_type": "code",
   "execution_count": null,
   "id": "5b4b6ecb-e39b-4276-b659-5ba35257bec9",
   "metadata": {},
   "outputs": [],
   "source": []
  },
  {
   "cell_type": "code",
   "execution_count": null,
   "id": "ce0c72ea-36b4-4ec9-becf-e6cdca61f427",
   "metadata": {},
   "outputs": [],
   "source": [
    "\n",
    "    "
   ]
  },
  {
   "cell_type": "code",
   "execution_count": null,
   "id": "b4b696df-682a-43f7-88b9-2bd487f44426",
   "metadata": {},
   "outputs": [],
   "source": []
  },
  {
   "cell_type": "code",
   "execution_count": null,
   "id": "7943d0ed-1523-4c2c-87cf-c7fc4463cd9d",
   "metadata": {},
   "outputs": [],
   "source": []
  }
 ],
 "metadata": {
  "kernelspec": {
   "display_name": "Python 3 (ipykernel)",
   "language": "python",
   "name": "python3"
  },
  "language_info": {
   "codemirror_mode": {
    "name": "ipython",
    "version": 3
   },
   "file_extension": ".py",
   "mimetype": "text/x-python",
   "name": "python",
   "nbconvert_exporter": "python",
   "pygments_lexer": "ipython3",
   "version": "3.12.2"
  }
 },
 "nbformat": 4,
 "nbformat_minor": 5
}
