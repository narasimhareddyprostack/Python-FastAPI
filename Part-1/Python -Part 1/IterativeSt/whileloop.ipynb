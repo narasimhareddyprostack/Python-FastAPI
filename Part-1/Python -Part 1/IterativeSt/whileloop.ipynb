{
 "cells": [
  {
   "cell_type": "code",
   "execution_count": 1,
   "id": "03611f1f-3584-4220-ac09-af1a1f7694ea",
   "metadata": {},
   "outputs": [
    {
     "name": "stdout",
     "output_type": "stream",
     "text": [
      "1\n",
      "2\n",
      "3\n",
      "4\n",
      "5\n"
     ]
    }
   ],
   "source": [
    "#print 1,2,3,4,5\n",
    "\n",
    "i=1\n",
    "while i<=5:\n",
    "    print(i)\n",
    "    i=i+1"
   ]
  },
  {
   "cell_type": "code",
   "execution_count": 2,
   "id": "3edf4491-840e-4e0d-96bb-17c5c7dd5abd",
   "metadata": {},
   "outputs": [
    {
     "name": "stdout",
     "output_type": "stream",
     "text": [
      "1  2  3  4  5  "
     ]
    }
   ],
   "source": [
    "#print 1,2,3,4,5\n",
    "\n",
    "i=1\n",
    "while i<=5:\n",
    "    print(i,end=\"  \")\n",
    "    i=i+1"
   ]
  },
  {
   "cell_type": "code",
   "execution_count": 4,
   "id": "4a8ae50c-7c51-41dc-a4bc-8631153fe986",
   "metadata": {},
   "outputs": [
    {
     "name": "stdout",
     "output_type": "stream",
     "text": [
      "Good Morning:::: 1\n",
      "Good Morning:::: 2\n",
      "Good Morning:::: 3\n",
      "Good Morning:::: 4\n",
      "Good Morning:::: 5\n",
      "Good Morning:::: 6\n",
      "Good Morning:::: 7\n",
      "Good Morning:::: 8\n",
      "Good Morning:::: 9\n",
      "Good Morning:::: 10\n",
      "Good Morning:::: 11\n",
      "Good Morning:::: 12\n",
      "Good Morning:::: 13\n",
      "Good Morning:::: 14\n",
      "Good Morning:::: 15\n",
      "Good Morning:::: 16\n",
      "Good Morning:::: 17\n",
      "Good Morning:::: 18\n",
      "Good Morning:::: 19\n",
      "Good Morning:::: 20\n"
     ]
    }
   ],
   "source": [
    "#print \"GM\" 20 times\n",
    "\n",
    "i=1\n",
    "while i<=20:\n",
    "    print(\"Good Morning::::\", i)\n",
    "    i=i+1\n"
   ]
  },
  {
   "cell_type": "code",
   "execution_count": 6,
   "id": "19d98655-47fb-4395-845c-afe7d279129a",
   "metadata": {},
   "outputs": [
    {
     "name": "stdout",
     "output_type": "stream",
     "text": [
      "10\n",
      "11\n",
      "12\n",
      "13\n",
      "14\n",
      "15\n",
      "16\n",
      "17\n",
      "18\n",
      "19\n",
      "20\n",
      "21\n",
      "22\n",
      "23\n",
      "24\n",
      "25\n",
      "26\n",
      "27\n",
      "28\n",
      "29\n",
      "30\n",
      "31\n",
      "32\n",
      "33\n",
      "34\n",
      "35\n",
      "36\n",
      "37\n",
      "38\n",
      "39\n",
      "40\n",
      "41\n",
      "42\n",
      "43\n",
      "44\n",
      "45\n",
      "46\n",
      "47\n",
      "48\n",
      "49\n",
      "50\n"
     ]
    }
   ],
   "source": [
    "# print 10 .... 50\n",
    "\n",
    "i=10 \n",
    "while i<=50:\n",
    "    print(i)\n",
    "    i= i+1"
   ]
  },
  {
   "cell_type": "code",
   "execution_count": 10,
   "id": "46f821cc-0010-4090-940b-df65fd61223d",
   "metadata": {},
   "outputs": [
    {
     "name": "stdout",
     "output_type": "stream",
     "text": [
      "0  2  4  6  8  10  12  14  16  18  "
     ]
    }
   ],
   "source": [
    "# first even number 0,2,4,6,8,10,12,14,16,18\n",
    "\n",
    "i=0\n",
    "while i<=18:\n",
    "    print(i,end=\"  \")\n",
    "    i=i+2\n",
    "    \n",
    "\n"
   ]
  },
  {
   "cell_type": "code",
   "execution_count": 11,
   "id": "f64ebee6-ba17-454e-8abf-af5c86976c01",
   "metadata": {},
   "outputs": [
    {
     "name": "stdout",
     "output_type": "stream",
     "text": [
      "100,99,98,97,96,95,94,93,92,91,90,89,88,87,86,85,84,83,82,81,80,79,78,77,76,75,74,73,72,71,70,69,68,67,66,65,64,63,62,61,60,59,58,57,56,55,54,53,52,51,50,49,48,47,46,45,44,43,42,41,40,39,38,37,36,35,34,33,32,31,30,29,28,27,26,25,24,23,22,21,20,19,18,17,16,15,14,13,12,11,10,9,8,7,6,5,4,3,2,1,"
     ]
    }
   ],
   "source": [
    "#print 100 to 1\n",
    "i=100\n",
    "while i>=1:\n",
    "    print(i,end=\",\")\n",
    "    i=i-1"
   ]
  },
  {
   "cell_type": "code",
   "execution_count": 12,
   "id": "2c4f1316-8110-4803-8954-94850652aaed",
   "metadata": {},
   "outputs": [
    {
     "name": "stdout",
     "output_type": "stream",
     "text": [
      "7* 1 = 7\n",
      "7* 2 = 14\n",
      "7* 3 = 21\n",
      "7* 4 = 28\n",
      "7* 5 = 35\n",
      "7* 6 = 42\n",
      "7* 7 = 49\n",
      "7* 8 = 56\n",
      "7* 9 = 63\n",
      "7* 10 = 70\n"
     ]
    }
   ],
   "source": [
    "#print 7 table\n",
    "i=1\n",
    "while i<=10:\n",
    "    print(\"7*\",i,\"=\",7*i)\n",
    "    i = i+1"
   ]
  },
  {
   "cell_type": "code",
   "execution_count": null,
   "id": "000bf245-95e0-4eeb-84e0-bbda28ae0fa0",
   "metadata": {},
   "outputs": [],
   "source": []
  }
 ],
 "metadata": {
  "kernelspec": {
   "display_name": "Python 3 (ipykernel)",
   "language": "python",
   "name": "python3"
  },
  "language_info": {
   "codemirror_mode": {
    "name": "ipython",
    "version": 3
   },
   "file_extension": ".py",
   "mimetype": "text/x-python",
   "name": "python",
   "nbconvert_exporter": "python",
   "pygments_lexer": "ipython3",
   "version": "3.12.2"
  }
 },
 "nbformat": 4,
 "nbformat_minor": 5
}
