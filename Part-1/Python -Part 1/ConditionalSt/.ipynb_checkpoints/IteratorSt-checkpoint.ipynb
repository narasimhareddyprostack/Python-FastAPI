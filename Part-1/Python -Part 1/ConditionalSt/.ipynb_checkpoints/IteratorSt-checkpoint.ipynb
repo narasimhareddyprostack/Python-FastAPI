{
 "cells": [
  {
   "cell_type": "code",
   "execution_count": 1,
   "id": "27373eb0-e83d-456c-abf2-7cf38fc6bdf6",
   "metadata": {},
   "outputs": [
    {
     "name": "stdout",
     "output_type": "stream",
     "text": [
      "10\n",
      "20\n",
      "30\n"
     ]
    }
   ],
   "source": [
    "for ele in [10,20,30]:\n",
    "    print(ele)"
   ]
  },
  {
   "cell_type": "code",
   "execution_count": 2,
   "id": "9f67ece6-7d1e-4526-bd07-6e1410b67741",
   "metadata": {},
   "outputs": [
    {
     "name": "stdout",
     "output_type": "stream",
     "text": [
      "R\n",
      "a\n",
      "h\n",
      "u\n",
      "l\n",
      " \n",
      "G\n",
      "a\n",
      "n\n",
      "d\n",
      "h\n",
      "i\n"
     ]
    }
   ],
   "source": [
    "ename = \"Rahul Gandhi\"\n",
    "for ch in ename:\n",
    "    print(ch)"
   ]
  },
  {
   "cell_type": "code",
   "execution_count": 4,
   "id": "2c4ab786-5997-40f2-9e52-deff6666f003",
   "metadata": {},
   "outputs": [
    {
     "ename": "IndentationError",
     "evalue": "expected an indented block after 'for' statement on line 2 (3451159177.py, line 3)",
     "output_type": "error",
     "traceback": [
      "\u001b[1;36m  Cell \u001b[1;32mIn[4], line 3\u001b[1;36m\u001b[0m\n\u001b[1;33m    print(ename)\u001b[0m\n\u001b[1;37m    ^\u001b[0m\n\u001b[1;31mIndentationError\u001b[0m\u001b[1;31m:\u001b[0m expected an indented block after 'for' statement on line 2\n"
     ]
    }
   ],
   "source": [
    "enames= ['Rahul','sonai','Priyanka','Modi','Amith']\n",
    "for ename in enames:\n",
    "    print(ename)"
   ]
  },
  {
   "cell_type": "code",
   "execution_count": null,
   "id": "385447ac-0df1-4f9e-be85-a5c5f6b2f3da",
   "metadata": {},
   "outputs": [],
   "source": []
  }
 ],
 "metadata": {
  "kernelspec": {
   "display_name": "Python 3 (ipykernel)",
   "language": "python",
   "name": "python3"
  },
  "language_info": {
   "codemirror_mode": {
    "name": "ipython",
    "version": 3
   },
   "file_extension": ".py",
   "mimetype": "text/x-python",
   "name": "python",
   "nbconvert_exporter": "python",
   "pygments_lexer": "ipython3",
   "version": "3.12.2"
  }
 },
 "nbformat": 4,
 "nbformat_minor": 5
}
