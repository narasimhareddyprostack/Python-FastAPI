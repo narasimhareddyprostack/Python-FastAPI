{
 "cells": [
  {
   "cell_type": "code",
   "execution_count": 1,
   "id": "5aeb9479-88b0-45d1-b514-53d64b77b49c",
   "metadata": {},
   "outputs": [
    {
     "data": {
      "text/plain": [
       "'\\nprint() - print data on console/terminal\\ntype()  - return data type of variable \\nid()    - return address of object \\ninput() - read data from user/consolre\\n\\n# type casting functions\\nint()   - convert any type to int type\\nfloat() \\nstr()\\nbool()\\ncomplex()\\nlist()\\ntuple()\\nset()\\ndict()\\nbytes()\\nbytearra()\\nfrozenset()\\nrange()\\n\\n#few more \\nbin()\\nhex()\\noct()\\n\\nlen()\\ncount()\\nmin()\\nmax()\\nlambda()\\n\\n\\n'"
      ]
     },
     "execution_count": 1,
     "metadata": {},
     "output_type": "execute_result"
    }
   ],
   "source": [
    "'''\n",
    "print() - print data on console/terminal\n",
    "type()  - return data type of variable \n",
    "id()    - return address of object \n",
    "input() - read data from user/consolre\n",
    "\n",
    "# type casting functions\n",
    "int()   - convert any type to int type\n",
    "float() \n",
    "str()\n",
    "bool()\n",
    "complex()\n",
    "list()\n",
    "tuple()\n",
    "set()\n",
    "dict()\n",
    "bytes()\n",
    "bytearra()\n",
    "frozenset()\n",
    "range()\n",
    "\n",
    "#few more \n",
    "bin()\n",
    "hex()\n",
    "oct()\n",
    "\n",
    "len()\n",
    "count()\n",
    "min()\n",
    "max()\n",
    "lambda()\n",
    "\n",
    "\n",
    "'''"
   ]
  },
  {
   "cell_type": "code",
   "execution_count": 2,
   "id": "547ec1f0-a70a-41aa-9f9a-fff8dd0ba62c",
   "metadata": {},
   "outputs": [
    {
     "name": "stdout",
     "output_type": "stream",
     "text": [
      "0b1010\n"
     ]
    }
   ],
   "source": [
    "\n",
    "print(bin(10))"
   ]
  },
  {
   "cell_type": "code",
   "execution_count": 3,
   "id": "2197ec4b-7aa2-40fd-a792-76874f172a04",
   "metadata": {},
   "outputs": [
    {
     "name": "stdout",
     "output_type": "stream",
     "text": [
      "10\n"
     ]
    }
   ],
   "source": [
    "print(int(0b1010))"
   ]
  },
  {
   "cell_type": "code",
   "execution_count": 4,
   "id": "eaa3d1b6-ff8b-4d9f-a28b-8bf6985fee99",
   "metadata": {},
   "outputs": [
    {
     "name": "stdout",
     "output_type": "stream",
     "text": [
      "0b1010\n",
      "0o12\n",
      "0xa\n"
     ]
    }
   ],
   "source": [
    "a = 10\n",
    "print(bin(a))\n",
    "print(oct(a))\n",
    "print(hex(a))\n"
   ]
  },
  {
   "cell_type": "code",
   "execution_count": 5,
   "id": "0807ee08-b795-43c5-9637-9d30ffbbfe8b",
   "metadata": {},
   "outputs": [
    {
     "name": "stdout",
     "output_type": "stream",
     "text": [
      "10\n"
     ]
    }
   ],
   "source": [
    "print(0b1010)"
   ]
  },
  {
   "cell_type": "code",
   "execution_count": 6,
   "id": "7cc93200-bb7b-4339-9e73-384ac105e2a2",
   "metadata": {},
   "outputs": [
    {
     "name": "stdout",
     "output_type": "stream",
     "text": [
      "10\n",
      "10\n",
      "10\n"
     ]
    }
   ],
   "source": [
    "\n",
    "print(0b1010)\n",
    "print(0o12)\n",
    "print(0xa)"
   ]
  },
  {
   "cell_type": "code",
   "execution_count": 7,
   "id": "2121ffe2-5fbf-4bb0-9c52-e117ce685de1",
   "metadata": {},
   "outputs": [
    {
     "name": "stdout",
     "output_type": "stream",
     "text": [
      "140722932959960\n",
      "140722932960280\n"
     ]
    }
   ],
   "source": [
    "a = 10\n",
    "print(id(a))\n",
    "a = 20\n",
    "\n",
    "print(id(a))"
   ]
  },
  {
   "cell_type": "code",
   "execution_count": null,
   "id": "d126b863-00a8-44fd-9482-7721fbae801c",
   "metadata": {},
   "outputs": [],
   "source": []
  }
 ],
 "metadata": {
  "kernelspec": {
   "display_name": "Python 3 (ipykernel)",
   "language": "python",
   "name": "python3"
  },
  "language_info": {
   "codemirror_mode": {
    "name": "ipython",
    "version": 3
   },
   "file_extension": ".py",
   "mimetype": "text/x-python",
   "name": "python",
   "nbconvert_exporter": "python",
   "pygments_lexer": "ipython3",
   "version": "3.12.2"
  }
 },
 "nbformat": 4,
 "nbformat_minor": 5
}
