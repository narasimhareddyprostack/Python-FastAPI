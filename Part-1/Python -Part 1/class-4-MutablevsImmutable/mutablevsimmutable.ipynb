{
 "cells": [
  {
   "cell_type": "code",
   "execution_count": 1,
   "id": "73e7a144-7b31-437b-81e3-02b21d6802e6",
   "metadata": {},
   "outputs": [
    {
     "name": "stdout",
     "output_type": "stream",
     "text": [
      "[34, 35, 36]\n"
     ]
    }
   ],
   "source": [
    "marks=[34,35,36]\n",
    "print(marks)"
   ]
  },
  {
   "cell_type": "code",
   "execution_count": 2,
   "id": "dd78da39-e6a4-488b-892e-fd17b00b9bb9",
   "metadata": {},
   "outputs": [
    {
     "name": "stdout",
     "output_type": "stream",
     "text": [
      "[34, 35, 36]\n",
      "[34, 35, 36, 98]\n"
     ]
    }
   ],
   "source": [
    "marks=[34,35,36]\n",
    "print(marks)\n",
    "marks.append(98)\n",
    "print(marks)"
   ]
  },
  {
   "cell_type": "code",
   "execution_count": 4,
   "id": "90b52767-1317-4b5a-a0ef-b5ed08c3c7a5",
   "metadata": {},
   "outputs": [
    {
     "name": "stdout",
     "output_type": "stream",
     "text": [
      "[34, 35, 36]\n",
      "[37, 35, 36]\n"
     ]
    }
   ],
   "source": [
    "marks=[34,35,36]\n",
    "#index  0  1  2 \n",
    "print(marks)\n",
    "\n",
    "marks[0] = 37\n",
    "print(marks)"
   ]
  },
  {
   "cell_type": "code",
   "execution_count": 5,
   "id": "ae7653ad-a4ec-4881-82fe-5b0f16ebb891",
   "metadata": {},
   "outputs": [
    {
     "name": "stdout",
     "output_type": "stream",
     "text": [
      "{'Priyanka', 'Rahul', 'Sonai'}\n"
     ]
    }
   ],
   "source": [
    "#what is set -  set duplicates ar not allowed\n",
    "\n",
    "enames={\"Rahul\",\"Sonai\",\"Priyanka\",\"Priyanka\"}\n",
    "print(enames)"
   ]
  },
  {
   "cell_type": "code",
   "execution_count": 6,
   "id": "0fec0408-b157-4058-b793-a72a4ab8a176",
   "metadata": {},
   "outputs": [
    {
     "name": "stdout",
     "output_type": "stream",
     "text": [
      "{'Priyanka', 'Rahul', 'Sonai'}\n",
      "set()\n"
     ]
    }
   ],
   "source": [
    "enames={\"Rahul\",\"Sonai\",\"Priyanka\",\"Priyanka\"}\n",
    "print(enames)\n",
    "enames.clear()\n",
    "print(enames)"
   ]
  },
  {
   "cell_type": "code",
   "execution_count": 8,
   "id": "642fe9b7-aa4d-42a1-bb86-df07f9c91ae7",
   "metadata": {},
   "outputs": [
    {
     "name": "stdout",
     "output_type": "stream",
     "text": [
      "10\n",
      "20\n",
      "30\n",
      "200\n",
      "255\n"
     ]
    }
   ],
   "source": [
    "l1 = [10,20,30,200,255]\n",
    "b1=bytes(l1)\n",
    "for x in b1:\n",
    "    print(x)"
   ]
  },
  {
   "cell_type": "code",
   "execution_count": 9,
   "id": "30e8b1fa-cb1d-4be9-82c8-0b23e8329c32",
   "metadata": {},
   "outputs": [
    {
     "ename": "ValueError",
     "evalue": "bytes must be in range(0, 256)",
     "output_type": "error",
     "traceback": [
      "\u001b[1;31m---------------------------------------------------------------------------\u001b[0m",
      "\u001b[1;31mValueError\u001b[0m                                Traceback (most recent call last)",
      "Cell \u001b[1;32mIn[9], line 2\u001b[0m\n\u001b[0;32m      1\u001b[0m l2 \u001b[38;5;241m=\u001b[39m [\u001b[38;5;241m10\u001b[39m,\u001b[38;5;241m20\u001b[39m,\u001b[38;5;241m30\u001b[39m,\u001b[38;5;241m200\u001b[39m,\u001b[38;5;241m257\u001b[39m]\n\u001b[1;32m----> 2\u001b[0m b2\u001b[38;5;241m=\u001b[39m\u001b[38;5;28;43mbytes\u001b[39;49m\u001b[43m(\u001b[49m\u001b[43ml2\u001b[49m\u001b[43m)\u001b[49m\n\u001b[0;32m      3\u001b[0m \u001b[38;5;28mprint\u001b[39m(l2)\n\u001b[0;32m      4\u001b[0m \u001b[38;5;28mprint\u001b[39m(b2)\n",
      "\u001b[1;31mValueError\u001b[0m: bytes must be in range(0, 256)"
     ]
    }
   ],
   "source": [
    "l2 = [10,20,30,200,257]\n",
    "b2=bytes(l2)\n",
    "print(l2)\n",
    "print(b2)"
   ]
  },
  {
   "cell_type": "code",
   "execution_count": 10,
   "id": "13e7fb56-42f6-45ba-9555-136e06e6726a",
   "metadata": {},
   "outputs": [
    {
     "ename": "ValueError",
     "evalue": "bytes must be in range(0, 256)",
     "output_type": "error",
     "traceback": [
      "\u001b[1;31m---------------------------------------------------------------------------\u001b[0m",
      "\u001b[1;31mValueError\u001b[0m                                Traceback (most recent call last)",
      "Cell \u001b[1;32mIn[10], line 2\u001b[0m\n\u001b[0;32m      1\u001b[0m l3\u001b[38;5;241m=\u001b[39m [\u001b[38;5;241m10\u001b[39m,\u001b[38;5;241m20\u001b[39m,\u001b[38;5;241m256\u001b[39m]\n\u001b[1;32m----> 2\u001b[0m b3\u001b[38;5;241m=\u001b[39m\u001b[38;5;28;43mbytes\u001b[39;49m\u001b[43m(\u001b[49m\u001b[43ml3\u001b[49m\u001b[43m)\u001b[49m\n\u001b[0;32m      3\u001b[0m \u001b[38;5;28mprint\u001b[39m(b3)\n",
      "\u001b[1;31mValueError\u001b[0m: bytes must be in range(0, 256)"
     ]
    }
   ],
   "source": [
    "l3= [10,20,256]\n",
    "b3=bytes(l3)\n",
    "print(b3)"
   ]
  },
  {
   "cell_type": "code",
   "execution_count": 11,
   "id": "566a6be1-8ac8-4047-aff4-bd2f6ba6ed2b",
   "metadata": {},
   "outputs": [
    {
     "ename": "ValueError",
     "evalue": "bytes must be in range(0, 256)",
     "output_type": "error",
     "traceback": [
      "\u001b[1;31m---------------------------------------------------------------------------\u001b[0m",
      "\u001b[1;31mValueError\u001b[0m                                Traceback (most recent call last)",
      "Cell \u001b[1;32mIn[11], line 2\u001b[0m\n\u001b[0;32m      1\u001b[0m marks \u001b[38;5;241m=\u001b[39m [\u001b[38;5;241m100\u001b[39m,\u001b[38;5;241m200\u001b[39m,\u001b[38;5;241m300\u001b[39m]\n\u001b[1;32m----> 2\u001b[0m b \u001b[38;5;241m=\u001b[39m \u001b[38;5;28;43mbytes\u001b[39;49m\u001b[43m(\u001b[49m\u001b[43mmarks\u001b[49m\u001b[43m)\u001b[49m\n",
      "\u001b[1;31mValueError\u001b[0m: bytes must be in range(0, 256)"
     ]
    }
   ],
   "source": [
    "marks = [100,200,300]\n",
    "b = bytes(marks)\n"
   ]
  },
  {
   "cell_type": "code",
   "execution_count": 12,
   "id": "91c49426-252b-4ed8-be7e-a01e4b6ce62e",
   "metadata": {},
   "outputs": [
    {
     "name": "stdout",
     "output_type": "stream",
     "text": [
      "<class 'list'>\n",
      "<class 'bytearray'>\n"
     ]
    }
   ],
   "source": [
    "#bytearray\n",
    "l1 = [10,20,30,255]\n",
    "ba= bytearray(l1)\n",
    "print(type(l1))\n",
    "print(type(ba))"
   ]
  },
  {
   "cell_type": "code",
   "execution_count": 13,
   "id": "f47bb489-20ca-4f10-bc69-3977940b969c",
   "metadata": {},
   "outputs": [
    {
     "name": "stdout",
     "output_type": "stream",
     "text": [
      "<class 'bytes'>\n",
      "<class 'bytearray'>\n"
     ]
    }
   ],
   "source": [
    "l1 = [10,20,30,255]\n",
    "\n",
    "b  = bytes(l1)\n",
    "ba= bytearray(l1)\n",
    "\n",
    "print(type(b))\n",
    "print(type(ba))"
   ]
  },
  {
   "cell_type": "code",
   "execution_count": 14,
   "id": "c1081aaa-441e-4fc0-9863-7a9848ab67c7",
   "metadata": {},
   "outputs": [
    {
     "ename": "AttributeError",
     "evalue": "'bytes' object has no attribute 'append'",
     "output_type": "error",
     "traceback": [
      "\u001b[1;31m---------------------------------------------------------------------------\u001b[0m",
      "\u001b[1;31mAttributeError\u001b[0m                            Traceback (most recent call last)",
      "Cell \u001b[1;32mIn[14], line 5\u001b[0m\n\u001b[0;32m      3\u001b[0m b  \u001b[38;5;241m=\u001b[39m \u001b[38;5;28mbytes\u001b[39m(l1)\n\u001b[0;32m      4\u001b[0m ba\u001b[38;5;241m=\u001b[39m \u001b[38;5;28mbytearray\u001b[39m(l1)\n\u001b[1;32m----> 5\u001b[0m \u001b[43mb\u001b[49m\u001b[38;5;241;43m.\u001b[39;49m\u001b[43mappend\u001b[49m(\u001b[38;5;241m40\u001b[39m)\n\u001b[0;32m      7\u001b[0m \u001b[38;5;28;01mfor\u001b[39;00m ele \u001b[38;5;129;01min\u001b[39;00m b:\n\u001b[0;32m      8\u001b[0m     \u001b[38;5;28mprint\u001b[39m(ele)\n",
      "\u001b[1;31mAttributeError\u001b[0m: 'bytes' object has no attribute 'append'"
     ]
    }
   ],
   "source": [
    "l1 = [10,20,30,255]\n",
    "\n",
    "b  = bytes(l1)\n",
    "ba= bytearray(l1)\n",
    "b.append(40)\n",
    "\n",
    "for ele in b:\n",
    "    print(ele)"
   ]
  },
  {
   "cell_type": "code",
   "execution_count": 16,
   "id": "efb10e45-bbcd-404c-a88d-ff999115b265",
   "metadata": {},
   "outputs": [
    {
     "name": "stdout",
     "output_type": "stream",
     "text": [
      "10\n",
      "20\n",
      "30\n",
      "255\n",
      "40\n"
     ]
    }
   ],
   "source": [
    "l1 = [10,20,30,255]\n",
    "\n",
    "b  = bytes(l1)\n",
    "ba= bytearray(l1)\n",
    "ba.append(40)\n",
    "\n",
    "for ele in ba:\n",
    "    print(ele)"
   ]
  },
  {
   "cell_type": "code",
   "execution_count": 17,
   "id": "b13d57c7-54ab-4912-a5b3-5889d3c26c40",
   "metadata": {},
   "outputs": [
    {
     "name": "stdout",
     "output_type": "stream",
     "text": [
      "[]\n",
      "set()\n"
     ]
    }
   ],
   "source": [
    "#what is tuple: read only version of list. We cant perfrom update and del operation on tuple objects\n",
    "\n",
    "l = [10,20,30]\n",
    "t = (10,20,30)\n",
    "s = {10,20,30}\n",
    "\n",
    "l.clear()\n",
    "s.clear()\n",
    "\n",
    "print(l)\n",
    "print(s)\n"
   ]
  },
  {
   "cell_type": "code",
   "execution_count": 18,
   "id": "b613981d-9201-45a2-9c00-5b93621e4478",
   "metadata": {},
   "outputs": [
    {
     "ename": "AttributeError",
     "evalue": "'tuple' object has no attribute 'clear'",
     "output_type": "error",
     "traceback": [
      "\u001b[1;31m---------------------------------------------------------------------------\u001b[0m",
      "\u001b[1;31mAttributeError\u001b[0m                            Traceback (most recent call last)",
      "Cell \u001b[1;32mIn[18], line 5\u001b[0m\n\u001b[0;32m      2\u001b[0m t \u001b[38;5;241m=\u001b[39m (\u001b[38;5;241m10\u001b[39m,\u001b[38;5;241m20\u001b[39m,\u001b[38;5;241m30\u001b[39m)\n\u001b[0;32m      3\u001b[0m s \u001b[38;5;241m=\u001b[39m {\u001b[38;5;241m10\u001b[39m,\u001b[38;5;241m20\u001b[39m,\u001b[38;5;241m30\u001b[39m}\n\u001b[1;32m----> 5\u001b[0m \u001b[43mt\u001b[49m\u001b[38;5;241;43m.\u001b[39;49m\u001b[43mclear\u001b[49m()\n",
      "\u001b[1;31mAttributeError\u001b[0m: 'tuple' object has no attribute 'clear'"
     ]
    }
   ],
   "source": [
    "l = [10,20,30]\n",
    "t = (10,20,30)\n",
    "s = {10,20,30}\n",
    "\n",
    "t.clear()\n",
    "\n"
   ]
  },
  {
   "cell_type": "code",
   "execution_count": 19,
   "id": "e9e0d627-00c8-410e-9929-ceebb34bb89a",
   "metadata": {},
   "outputs": [
    {
     "name": "stdout",
     "output_type": "stream",
     "text": [
      "b'\\n\\x14\\x1e\\xff'\n"
     ]
    }
   ],
   "source": [
    "l1 = [10,20,30,255]\n",
    "\n",
    "b = bytes(l1)\n",
    "print(b)"
   ]
  },
  {
   "cell_type": "code",
   "execution_count": 20,
   "id": "cd351bfc-e6dc-40c9-8971-1d09eec8c5c4",
   "metadata": {},
   "outputs": [
    {
     "name": "stdout",
     "output_type": "stream",
     "text": [
      "10\n",
      "20\n",
      "30\n",
      "255\n"
     ]
    }
   ],
   "source": [
    "l1 = [10,20,30,255]\n",
    "b = bytes(l1)\n",
    "#print(b)\n",
    "\n",
    "for ele in b:\n",
    "    print(ele)"
   ]
  },
  {
   "cell_type": "code",
   "execution_count": 21,
   "id": "d1b525d5-55dc-48bd-b018-49c4028ea312",
   "metadata": {},
   "outputs": [
    {
     "name": "stdout",
     "output_type": "stream",
     "text": [
      "bytearray(b'\\n\\x14\\x1e\\xff')\n",
      "10\n",
      "20\n",
      "30\n",
      "255\n"
     ]
    }
   ],
   "source": [
    "l1 = [10,20,30,255]\n",
    "ba = bytearray(l1)\n",
    "print(ba)\n",
    "\n",
    "for ele in ba:\n",
    "    print(ele)"
   ]
  },
  {
   "cell_type": "code",
   "execution_count": null,
   "id": "dc829af9-da21-4033-9a65-c69b398ea893",
   "metadata": {},
   "outputs": [],
   "source": []
  }
 ],
 "metadata": {
  "kernelspec": {
   "display_name": "Python 3 (ipykernel)",
   "language": "python",
   "name": "python3"
  },
  "language_info": {
   "codemirror_mode": {
    "name": "ipython",
    "version": 3
   },
   "file_extension": ".py",
   "mimetype": "text/x-python",
   "name": "python",
   "nbconvert_exporter": "python",
   "pygments_lexer": "ipython3",
   "version": "3.12.2"
  }
 },
 "nbformat": 4,
 "nbformat_minor": 5
}
