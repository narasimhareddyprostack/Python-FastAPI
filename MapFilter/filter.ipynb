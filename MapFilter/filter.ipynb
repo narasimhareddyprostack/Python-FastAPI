{
 "cells": [
  {
   "cell_type": "code",
   "execution_count": 1,
   "id": "d532761a-1b11-44c2-805c-113854cc66e5",
   "metadata": {},
   "outputs": [
    {
     "name": "stdout",
     "output_type": "stream",
     "text": [
      "[{'id': 1, 'name': 'Marker Pen', 'category': 'st'}, {'id': 3, 'name': 'Pens', 'category': 'st'}, {'id': 5, 'name': 'Duster', 'category': 'st'}]\n",
      "[{'id': 2, 'name': 'Sugar', 'category': 'gr'}, {'id': 4, 'name': 'Millet', 'category': 'gr'}, {'id': 6, 'name': 'Dal', 'category': 'gr'}]\n"
     ]
    }
   ],
   "source": [
    "products=[\n",
    "\t{'id':1,'name':'Marker Pen', 'category':'st'},\n",
    "\t{'id':2,'name':'Sugar', 'category':'gr'},\n",
    "\t{'id':3,'name':'Pens', 'category':'st'},\n",
    "\t{'id':4,'name':'Millet', 'category':'gr'},\n",
    "\t{'id':5,'name':'Duster', 'category':'st'},\n",
    "\t{'id':6,'name':'Dal', 'category':'gr'}\n",
    "]\n",
    "st_products=[]\n",
    "gr_products=[]\n",
    "\n",
    "for product in products:\n",
    "    if product['category'] =='st':\n",
    "        st_products.append(product)\n",
    "    else:\n",
    "        gr_products.append(product)\n",
    "\n",
    "print(st_products)\n",
    "print(gr_products)"
   ]
  },
  {
   "cell_type": "code",
   "execution_count": 5,
   "id": "84db0fa2-cfbb-4a0e-a91d-399f78f96b93",
   "metadata": {},
   "outputs": [
    {
     "name": "stdout",
     "output_type": "stream",
     "text": [
      "[{'id': 1, 'name': 'Marker Pen', 'category': 'st'}, {'id': 3, 'name': 'Pens', 'category': 'st'}, {'id': 5, 'name': 'Duster', 'category': 'st'}]\n"
     ]
    }
   ],
   "source": [
    "products=[\n",
    "\t{'id':1,'name':'Marker Pen', 'category':'st'},\n",
    "\t{'id':2,'name':'Sugar', 'category':'gr'},\n",
    "\t{'id':3,'name':'Pens', 'category':'st'},\n",
    "\t{'id':4,'name':'Millet', 'category':'gr'},\n",
    "\t{'id':5,'name':'Duster', 'category':'st'},\n",
    "\t{'id':6,'name':'Dal', 'category':'gr'}\n",
    "]\n",
    "def filterdata(product):\n",
    "    if product['category']=='st':\n",
    "        return True\n",
    "    else:\n",
    "        return False\n",
    "\n",
    "#print(list(filter(filterdata,products)))\n",
    "filter_obj=filter(filterdata,products)\n",
    "st_products=list(filter_obj)\n",
    "print(st_products)"
   ]
  },
  {
   "cell_type": "code",
   "execution_count": 6,
   "id": "9b67cf5a-9ae3-4ce8-ac01-ec4b0399b879",
   "metadata": {},
   "outputs": [
    {
     "name": "stdout",
     "output_type": "stream",
     "text": [
      "[2, 4, 6, 8, 10]\n"
     ]
    }
   ],
   "source": [
    "numbers=[1,2,3,4,5,6,7,8,9,10]\n",
    "\n",
    "def filterdata(num):\n",
    "    return num%2==0\n",
    "    \n",
    "filter_obj=filter(filterdata,numbers)\n",
    "\n",
    "even_numbers=list(filter_obj)\n",
    "print(even_numbers)"
   ]
  },
  {
   "cell_type": "code",
   "execution_count": 7,
   "id": "3deb3262-77ac-436c-adda-228a62923130",
   "metadata": {},
   "outputs": [
    {
     "name": "stdout",
     "output_type": "stream",
     "text": [
      "[2, 4, 6, 8, 10]\n"
     ]
    }
   ],
   "source": [
    "numbers=[1,2,3,4,5,6,7,8,9,10]\n",
    "\n",
    "print(list(filter(lambda num:num%2 ==0, numbers)))"
   ]
  },
  {
   "cell_type": "code",
   "execution_count": 9,
   "id": "98165c4f-6b68-4d35-8628-004589cfba91",
   "metadata": {},
   "outputs": [
    {
     "name": "stdout",
     "output_type": "stream",
     "text": [
      "{2, 4, 6, 8, 10}\n"
     ]
    }
   ],
   "source": [
    "numbers=[1,2,3,4,5,6,7,8,9,10,1,2,3,4,5,6,7,8,9,10,1,2,3,4,5,6,7,8,9,10,1,2,3,4,5,6,7,8,9,10,\n",
    "        1,2,3,4,5,6,7,8,9,10,1,2,3,4,5,6,7,8,9,10,1,2,3,4,5,6,7,8,9,10,1,2,3,4,5,6,7,8,9,10]\n",
    "\n",
    "filter_obj=filter(lambda num:num%2 ==0 , numbers)\n",
    "\n",
    "even_numbers=set(filter_obj)\n",
    "print(even_numbers)\n",
    "\n",
    "#print(list(filter(lambda num:num%2 ==0, numbers)))"
   ]
  },
  {
   "cell_type": "code",
   "execution_count": null,
   "id": "8b5b6e95-2498-4045-b6e9-9c703f0d863d",
   "metadata": {},
   "outputs": [],
   "source": []
  }
 ],
 "metadata": {
  "kernelspec": {
   "display_name": "Python 3 (ipykernel)",
   "language": "python",
   "name": "python3"
  },
  "language_info": {
   "codemirror_mode": {
    "name": "ipython",
    "version": 3
   },
   "file_extension": ".py",
   "mimetype": "text/x-python",
   "name": "python",
   "nbconvert_exporter": "python",
   "pygments_lexer": "ipython3",
   "version": "3.12.2"
  }
 },
 "nbformat": 4,
 "nbformat_minor": 5
}
