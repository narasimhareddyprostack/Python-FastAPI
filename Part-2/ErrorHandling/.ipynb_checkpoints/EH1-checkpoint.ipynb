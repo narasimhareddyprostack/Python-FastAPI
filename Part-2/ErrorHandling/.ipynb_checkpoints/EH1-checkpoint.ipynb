{
 "cells": [
  {
   "cell_type": "code",
   "execution_count": null,
   "id": "eb1bced0-6fd0-4b29-bd7d-d622acd4755d",
   "metadata": {},
   "outputs": [],
   "source": [
    "a = int(input(\"Enter First No:\"))\n",
    "b = int(input(\"Enter Second No:\"))\n",
    "print(a/b)\n",
    "print(\"GM\")"
   ]
  },
  {
   "cell_type": "code",
   "execution_count": 3,
   "id": "c1420235-065b-46bd-9437-1be3bbdd21cb",
   "metadata": {},
   "outputs": [
    {
     "name": "stdin",
     "output_type": "stream",
     "text": [
      "Enter First No: 10\n",
      "Enter Second No: ten\n"
     ]
    },
    {
     "ename": "ValueError",
     "evalue": "invalid literal for int() with base 10: 'ten'",
     "output_type": "error",
     "traceback": [
      "\u001b[1;31m---------------------------------------------------------------------------\u001b[0m",
      "\u001b[1;31mValueError\u001b[0m                                Traceback (most recent call last)",
      "Cell \u001b[1;32mIn[3], line 2\u001b[0m\n\u001b[0;32m      1\u001b[0m a \u001b[38;5;241m=\u001b[39m \u001b[38;5;28mint\u001b[39m(\u001b[38;5;28minput\u001b[39m(\u001b[38;5;124m\"\u001b[39m\u001b[38;5;124mEnter First No:\u001b[39m\u001b[38;5;124m\"\u001b[39m))\n\u001b[1;32m----> 2\u001b[0m b \u001b[38;5;241m=\u001b[39m \u001b[38;5;28;43mint\u001b[39;49m\u001b[43m(\u001b[49m\u001b[38;5;28;43minput\u001b[39;49m\u001b[43m(\u001b[49m\u001b[38;5;124;43m\"\u001b[39;49m\u001b[38;5;124;43mEnter Second No:\u001b[39;49m\u001b[38;5;124;43m\"\u001b[39;49m\u001b[43m)\u001b[49m\u001b[43m)\u001b[49m\n\u001b[0;32m      3\u001b[0m \u001b[38;5;28mprint\u001b[39m(a\u001b[38;5;241m/\u001b[39mb)\n\u001b[0;32m      4\u001b[0m \u001b[38;5;28mprint\u001b[39m(\u001b[38;5;124m\"\u001b[39m\u001b[38;5;124mGM\u001b[39m\u001b[38;5;124m\"\u001b[39m)\n",
      "\u001b[1;31mValueError\u001b[0m: invalid literal for int() with base 10: 'ten'"
     ]
    }
   ],
   "source": [
    "a = int(input(\"Enter First No:\"))\n",
    "b = int(input(\"Enter Second No:\"))\n",
    "print(a/b)\n",
    "print(\"GM\")"
   ]
  },
  {
   "cell_type": "code",
   "execution_count": 5,
   "id": "f408bcf0-0160-4009-bfdc-30fad2e6aad2",
   "metadata": {},
   "outputs": [
    {
     "name": "stdout",
     "output_type": "stream",
     "text": [
      "GM\n"
     ]
    }
   ],
   "source": [
    "try:\n",
    "    pass\n",
    "except:\n",
    "    pass\n",
    "print(\"GM\")"
   ]
  },
  {
   "cell_type": "code",
   "execution_count": 6,
   "id": "e32c4bc7-be44-4add-8ddc-4540ab4ea207",
   "metadata": {},
   "outputs": [
    {
     "name": "stdin",
     "output_type": "stream",
     "text": [
      "Enter First No: 10\n",
      "Enter Second No: 2\n"
     ]
    },
    {
     "name": "stdout",
     "output_type": "stream",
     "text": [
      "5.0\n",
      "GM\n"
     ]
    }
   ],
   "source": [
    "try:\n",
    "    a = int(input(\"Enter First No:\"))\n",
    "    b = int(input(\"Enter Second No:\"))\n",
    "    print(a/b)\n",
    "except:\n",
    "    print(a/1)\n",
    "print(\"GM\")"
   ]
  },
  {
   "cell_type": "code",
   "execution_count": 7,
   "id": "912e8e5d-2cbb-48e9-a53c-991778d1b9d7",
   "metadata": {},
   "outputs": [
    {
     "name": "stdin",
     "output_type": "stream",
     "text": [
      "Enter First No: 10\n",
      "Enter Second No: 0\n"
     ]
    },
    {
     "name": "stdout",
     "output_type": "stream",
     "text": [
      "10.0\n",
      "GM\n"
     ]
    }
   ],
   "source": [
    "try:\n",
    "    a = int(input(\"Enter First No:\"))\n",
    "    b = int(input(\"Enter Second No:\"))\n",
    "    print(a/b)\n",
    "except:\n",
    "    print(a/1)\n",
    "print(\"GM\")"
   ]
  },
  {
   "cell_type": "code",
   "execution_count": null,
   "id": "f49106af-2f4d-47b1-ae71-d19c3cd871de",
   "metadata": {},
   "outputs": [],
   "source": [
    "try:\n",
    "    a = int(input(\"Enter First No:\"))\n",
    "    b = int(input(\"Enter Second No:\"))\n",
    "    print(a/b)\n",
    "except:\n",
    "    print(a/1)\n",
    "print(\"GM\")"
   ]
  },
  {
   "cell_type": "code",
   "execution_count": 2,
   "id": "aaf42627-38df-4d6f-9193-5500947c507e",
   "metadata": {},
   "outputs": [
    {
     "name": "stdin",
     "output_type": "stream",
     "text": [
      "Enter First No: 10\n",
      "Enter Second No: ten\n"
     ]
    },
    {
     "name": "stdout",
     "output_type": "stream",
     "text": [
      "10.0\n",
      "GM\n"
     ]
    }
   ],
   "source": [
    "try:\n",
    "    a = int(input(\"Enter First No:\"))\n",
    "    b = int(input(\"Enter Second No:\"))\n",
    "    print(a/b)\n",
    "except:\n",
    "    print(a/1)\n",
    "print(\"GM\")"
   ]
  },
  {
   "cell_type": "code",
   "execution_count": null,
   "id": "210b1bec-32f0-47b1-aa70-d73cac87dd81",
   "metadata": {},
   "outputs": [],
   "source": []
  }
 ],
 "metadata": {
  "kernelspec": {
   "display_name": "Python 3 (ipykernel)",
   "language": "python",
   "name": "python3"
  },
  "language_info": {
   "codemirror_mode": {
    "name": "ipython",
    "version": 3
   },
   "file_extension": ".py",
   "mimetype": "text/x-python",
   "name": "python",
   "nbconvert_exporter": "python",
   "pygments_lexer": "ipython3",
   "version": "3.12.2"
  }
 },
 "nbformat": 4,
 "nbformat_minor": 5
}
