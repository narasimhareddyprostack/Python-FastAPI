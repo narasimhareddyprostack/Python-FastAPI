{
 "cells": [
  {
   "cell_type": "code",
   "execution_count": 1,
   "id": "f5ad214a-b24d-45e4-ae0d-de5f08aa1653",
   "metadata": {},
   "outputs": [
    {
     "ename": "TypeError",
     "evalue": "Employee() takes no arguments",
     "output_type": "error",
     "traceback": [
      "\u001b[1;31m---------------------------------------------------------------------------\u001b[0m",
      "\u001b[1;31mTypeError\u001b[0m                                 Traceback (most recent call last)",
      "Cell \u001b[1;32mIn[1], line 5\u001b[0m\n\u001b[0;32m      1\u001b[0m \u001b[38;5;28;01mclass\u001b[39;00m \u001b[38;5;21;01mEmployee\u001b[39;00m:\n\u001b[0;32m      2\u001b[0m     \u001b[38;5;28;01mpass\u001b[39;00m\n\u001b[1;32m----> 5\u001b[0m e1\u001b[38;5;241m=\u001b[39m\u001b[43mEmployee\u001b[49m\u001b[43m(\u001b[49m\u001b[38;5;241;43m101\u001b[39;49m\u001b[43m,\u001b[49m\u001b[38;5;124;43m\"\u001b[39;49m\u001b[38;5;124;43mRahul\u001b[39;49m\u001b[38;5;124;43m\"\u001b[39;49m\u001b[43m,\u001b[49m\u001b[38;5;241;43m45000\u001b[39;49m\u001b[43m)\u001b[49m\n\u001b[0;32m      6\u001b[0m e2\u001b[38;5;241m=\u001b[39mEmployee(\u001b[38;5;241m102\u001b[39m,\u001b[38;5;124m\"\u001b[39m\u001b[38;5;124mSonia\u001b[39m\u001b[38;5;124m\"\u001b[39m,\u001b[38;5;241m55000\u001b[39m)\n\u001b[0;32m      7\u001b[0m e3\u001b[38;5;241m=\u001b[39mEmployee(\u001b[38;5;241m103\u001b[39m,\u001b[38;5;124m\"\u001b[39m\u001b[38;5;124mPriyanka\u001b[39m\u001b[38;5;124m\"\u001b[39m,\u001b[38;5;241m65000\u001b[39m)\n",
      "\u001b[1;31mTypeError\u001b[0m: Employee() takes no arguments"
     ]
    }
   ],
   "source": [
    "class Employee:\n",
    "    pass\n",
    "\n",
    "\n",
    "e1=Employee(101,\"Rahul\",45000)\n",
    "e2=Employee(102,\"Sonia\",55000)\n",
    "e3=Employee(103,\"Priyanka\",65000)\n",
    "print(e1.__dict__)\n",
    "print(e1.__dict__)\n",
    "print(e1.__dict__)"
   ]
  },
  {
   "cell_type": "code",
   "execution_count": 3,
   "id": "2576298e-d596-4e2a-b18d-4210c739acb2",
   "metadata": {},
   "outputs": [
    {
     "name": "stdout",
     "output_type": "stream",
     "text": [
      "{'eid': 101, 'ename': 'Rahul', 'esal': 45000}\n",
      "{'eid': 102, 'ename': 'Sonia', 'esal': 55000}\n",
      "{'eid': 103, 'ename': 'Priyanka', 'esal': 65000}\n"
     ]
    }
   ],
   "source": [
    "class Employee:\n",
    "    def __init__(self,id,name,sal):\n",
    "        #create instance variables  - self\n",
    "        self.eid=id\n",
    "        self.ename=name\n",
    "        self.esal = sal\n",
    "\n",
    "\n",
    "e1=Employee(101,\"Rahul\",45000)\n",
    "e2=Employee(102,\"Sonia\",55000)\n",
    "e3=Employee(103,\"Priyanka\",65000)\n",
    "print(e1.__dict__)\n",
    "print(e2.__dict__)\n",
    "print(e3.__dict__)"
   ]
  },
  {
   "cell_type": "code",
   "execution_count": 4,
   "id": "36253884-e2b6-4100-bee7-5e6ca5020fc3",
   "metadata": {},
   "outputs": [
    {
     "name": "stdout",
     "output_type": "stream",
     "text": [
      "{'eid': 101, 'ename': 'Rahul', 'esal': 45000}\n",
      "{'eid': 102, 'ename': 'Sonia', 'esal': 55000}\n",
      "{'eid': 103, 'ename': 'Priyanka', 'esal': 65000}\n"
     ]
    }
   ],
   "source": [
    "class Employee:\n",
    "    company_name=\"TCS\"\n",
    "    def __init__(self,id,name,sal):\n",
    "        #create instance variables  - self\n",
    "        self.eid=id\n",
    "        self.ename=name\n",
    "        self.esal = sal\n",
    "\n",
    "\n",
    "e1=Employee(101,\"Rahul\",45000)\n",
    "e2=Employee(102,\"Sonia\",55000)\n",
    "e3=Employee(103,\"Priyanka\",65000)\n",
    "print(e1.__dict__)\n",
    "print(e2.__dict__)\n",
    "print(e3.__dict__)"
   ]
  },
  {
   "cell_type": "code",
   "execution_count": 5,
   "id": "79cb684e-fab1-4874-a5b5-999ee15e6ed5",
   "metadata": {},
   "outputs": [
    {
     "name": "stdout",
     "output_type": "stream",
     "text": [
      "{'__module__': '__main__', 'company_name': 'TCS', '__init__': <function Employee.__init__ at 0x000001C6EBAFC0E0>, '__dict__': <attribute '__dict__' of 'Employee' objects>, '__weakref__': <attribute '__weakref__' of 'Employee' objects>, '__doc__': None}\n"
     ]
    }
   ],
   "source": [
    "class Employee:\n",
    "    company_name=\"TCS\"\n",
    "    def __init__(self,id,name,sal):\n",
    "        #create instance variables  - self\n",
    "        self.eid=id\n",
    "        self.ename=name\n",
    "        self.esal = sal\n",
    "\n",
    "\n",
    "e1=Employee(101,\"Rahul\",45000)\n",
    "e2=Employee(102,\"Sonia\",55000)\n",
    "e3=Employee(103,\"Priyanka\",65000)\n",
    "print(Employee.__dict__)"
   ]
  },
  {
   "cell_type": "code",
   "execution_count": 6,
   "id": "7900f814-03f7-4396-b9ac-37db08dfedb6",
   "metadata": {},
   "outputs": [
    {
     "name": "stdout",
     "output_type": "stream",
     "text": [
      "{}\n",
      "{}\n"
     ]
    }
   ],
   "source": [
    "class Test:\n",
    "    pass\n",
    "\n",
    "\n",
    "t1=Test()\n",
    "t2=Test()\n",
    "\n",
    "print(t1.__dict__)  #{}\n",
    "print(t2.__dict__)  #{}"
   ]
  },
  {
   "cell_type": "code",
   "execution_count": 7,
   "id": "5fd54834-024b-4837-b7c7-7a2ba2da3d51",
   "metadata": {},
   "outputs": [
    {
     "name": "stdout",
     "output_type": "stream",
     "text": [
      "{'a': 100}\n",
      "{'a': 100}\n"
     ]
    }
   ],
   "source": [
    "class Test:\n",
    "    def __init__(self):\n",
    "        self.a = 100\n",
    "\n",
    "\n",
    "t1=Test()\n",
    "t2=Test()\n",
    "\n",
    "print(t1.__dict__)  #{'a': 100}\n",
    "print(t2.__dict__)  #{'a': 100}"
   ]
  },
  {
   "cell_type": "code",
   "execution_count": 9,
   "id": "d4c92c2f-f480-42a1-889a-4145d253e977",
   "metadata": {},
   "outputs": [
    {
     "name": "stdout",
     "output_type": "stream",
     "text": [
      "{'a': 100, 'b': 200}\n",
      "{'a': 100}\n"
     ]
    }
   ],
   "source": [
    "class Test:\n",
    "    def __init__(self):\n",
    "        self.a = 100\n",
    "    def m1(self):\n",
    "        self.b=200\n",
    "\n",
    "\n",
    "t1=Test()\n",
    "t2=Test()\n",
    "t1.m1()\n",
    "print(t1.__dict__)  #{'a': 100, 'b': 200}\n",
    "print(t2.__dict__)  #{'a': 100}"
   ]
  },
  {
   "cell_type": "code",
   "execution_count": 10,
   "id": "31880f0b-b015-4442-86a9-47d0e4c89099",
   "metadata": {},
   "outputs": [
    {
     "name": "stdout",
     "output_type": "stream",
     "text": [
      "{'a': 100, 'b': 200}\n",
      "{'a': 100, 'c': 300}\n"
     ]
    }
   ],
   "source": [
    "class Test:\n",
    "    def __init__(self):\n",
    "        self.a = 100\n",
    "    def m1(self):\n",
    "        self.b=200\n",
    "\n",
    "\n",
    "t1=Test()\n",
    "t2=Test()\n",
    "t1.m1()\n",
    "t2.c=300\n",
    "print(t1.__dict__)  #{'a': 100, 'b': 200}\n",
    "print(t2.__dict__)  #{'a': 100, 'c': 300}"
   ]
  },
  {
   "cell_type": "code",
   "execution_count": 11,
   "id": "a66f9adc-c5c6-4e69-971d-8e8bcefec40f",
   "metadata": {},
   "outputs": [
    {
     "ename": "NameError",
     "evalue": "name 'self' is not defined",
     "output_type": "error",
     "traceback": [
      "\u001b[1;31m---------------------------------------------------------------------------\u001b[0m",
      "\u001b[1;31mNameError\u001b[0m                                 Traceback (most recent call last)",
      "Cell \u001b[1;32mIn[11], line 16\u001b[0m\n\u001b[0;32m     14\u001b[0m t1\u001b[38;5;241m.\u001b[39mm1()\n\u001b[0;32m     15\u001b[0m t2\u001b[38;5;241m.\u001b[39mc\u001b[38;5;241m=\u001b[39m\u001b[38;5;241m300\u001b[39m\n\u001b[1;32m---> 16\u001b[0m \u001b[43mt1\u001b[49m\u001b[38;5;241;43m.\u001b[39;49m\u001b[43mm2\u001b[49m\u001b[43m(\u001b[49m\u001b[43m)\u001b[49m\n\u001b[0;32m     17\u001b[0m t2\u001b[38;5;241m.\u001b[39mm2()\n\u001b[0;32m     18\u001b[0m \u001b[38;5;28mprint\u001b[39m(t1\u001b[38;5;241m.\u001b[39m\u001b[38;5;18m__dict__\u001b[39m)  \u001b[38;5;66;03m#{'a': 100, 'b': 200}\u001b[39;00m\n",
      "Cell \u001b[1;32mIn[11], line 8\u001b[0m, in \u001b[0;36mTest.m2\u001b[1;34m(cls)\u001b[0m\n\u001b[0;32m      6\u001b[0m \u001b[38;5;129m@classmethod\u001b[39m\n\u001b[0;32m      7\u001b[0m \u001b[38;5;28;01mdef\u001b[39;00m \u001b[38;5;21mm2\u001b[39m(\u001b[38;5;28mcls\u001b[39m):\n\u001b[1;32m----> 8\u001b[0m     \u001b[38;5;28;43mself\u001b[39;49m\u001b[38;5;241m.\u001b[39md\u001b[38;5;241m=\u001b[39m\u001b[38;5;241m400\u001b[39m\n",
      "\u001b[1;31mNameError\u001b[0m: name 'self' is not defined"
     ]
    }
   ],
   "source": [
    "class Test:\n",
    "    def __init__(self):\n",
    "        self.a = 100\n",
    "    def m1(self):\n",
    "        self.b=200\n",
    "    @classmethod\n",
    "    def m2(cls):\n",
    "        self.d=400\n",
    "        \n",
    "\n",
    "\n",
    "t1=Test()\n",
    "t2=Test()\n",
    "t1.m1()\n",
    "t2.c=300\n",
    "t1.m2()\n",
    "t2.m2()\n",
    "print(t1.__dict__)  #{'a': 100, 'b': 200}\n",
    "print(t2.__dict__)  #{'a': 100, 'c': 300}"
   ]
  },
  {
   "cell_type": "code",
   "execution_count": 12,
   "id": "41f22920-bfdb-4198-aad1-fab3dc85960c",
   "metadata": {},
   "outputs": [
    {
     "ename": "NameError",
     "evalue": "name 'self' is not defined",
     "output_type": "error",
     "traceback": [
      "\u001b[1;31m---------------------------------------------------------------------------\u001b[0m",
      "\u001b[1;31mNameError\u001b[0m                                 Traceback (most recent call last)",
      "Cell \u001b[1;32mIn[12], line 9\u001b[0m\n\u001b[0;32m      7\u001b[0m t1\u001b[38;5;241m=\u001b[39mTest()\n\u001b[0;32m      8\u001b[0m t1\u001b[38;5;241m.\u001b[39mm1()\n\u001b[1;32m----> 9\u001b[0m \u001b[43mt1\u001b[49m\u001b[38;5;241;43m.\u001b[39;49m\u001b[43mm2\u001b[49m\u001b[43m(\u001b[49m\u001b[43m)\u001b[49m\n",
      "Cell \u001b[1;32mIn[12], line 5\u001b[0m, in \u001b[0;36mTest.m2\u001b[1;34m(cls)\u001b[0m\n\u001b[0;32m      4\u001b[0m \u001b[38;5;28;01mdef\u001b[39;00m \u001b[38;5;21mm2\u001b[39m(\u001b[38;5;28mcls\u001b[39m):\n\u001b[1;32m----> 5\u001b[0m     \u001b[38;5;28mprint\u001b[39m(\u001b[38;5;28;43mself\u001b[39;49m\u001b[38;5;241m.\u001b[39ma)\n",
      "\u001b[1;31mNameError\u001b[0m: name 'self' is not defined"
     ]
    }
   ],
   "source": [
    "class Test:\n",
    "    def m1(self):\n",
    "        self.a= 100\n",
    "    def m2(cls):\n",
    "        print(self.a)\n",
    "\n",
    "t1=Test()\n",
    "t1.m1()\n",
    "t1.m2()\n"
   ]
  },
  {
   "cell_type": "code",
   "execution_count": 13,
   "id": "d998b8ec-b072-403c-b993-6ba589a24331",
   "metadata": {},
   "outputs": [
    {
     "name": "stdout",
     "output_type": "stream",
     "text": [
      "{'__module__': '__main__', 'a': 100, '__dict__': <attribute '__dict__' of 'Test' objects>, '__weakref__': <attribute '__weakref__' of 'Test' objects>, '__doc__': None}\n"
     ]
    }
   ],
   "source": [
    "class Test:\n",
    "    a=100\n",
    "\n",
    "\n",
    "t1=Test()\n",
    "print(Test.__dict__)"
   ]
  },
  {
   "cell_type": "code",
   "execution_count": 14,
   "id": "b6a895c5-a432-4970-804f-0df51278fb8d",
   "metadata": {},
   "outputs": [
    {
     "name": "stdout",
     "output_type": "stream",
     "text": [
      "{'__module__': '__main__', 'a': 100, '__init__': <function Test.__init__ at 0x000001C6EBAFDC60>, '__dict__': <attribute '__dict__' of 'Test' objects>, '__weakref__': <attribute '__weakref__' of 'Test' objects>, '__doc__': None, 'b': 200}\n"
     ]
    }
   ],
   "source": [
    "class Test:\n",
    "    a=100\n",
    "    def __init__(self):\n",
    "        Test.b=200\n",
    "\n",
    "\n",
    "t1=Test()\n",
    "print(Test.__dict__)"
   ]
  },
  {
   "cell_type": "code",
   "execution_count": 16,
   "id": "dc309398-4cc3-4bb1-a6d0-872da61d88b3",
   "metadata": {},
   "outputs": [
    {
     "name": "stdout",
     "output_type": "stream",
     "text": [
      "{'__module__': '__main__', 'a': 100, '__init__': <function Test.__init__ at 0x000001C6EBAFE5C0>, 'm1': <function Test.m1 at 0x000001C6EBAFD940>, 'm2': <classmethod(<function Test.m2 at 0x000001C6EBAFED40>)>, 'm3': <staticmethod(<function Test.m3 at 0x000001C6EBAFEA20>)>, '__dict__': <attribute '__dict__' of 'Test' objects>, '__weakref__': <attribute '__weakref__' of 'Test' objects>, '__doc__': None, 'b': 200}\n",
      "{'__module__': '__main__', 'a': 100, '__init__': <function Test.__init__ at 0x000001C6EBAFE5C0>, 'm1': <function Test.m1 at 0x000001C6EBAFD940>, 'm2': <classmethod(<function Test.m2 at 0x000001C6EBAFED40>)>, 'm3': <staticmethod(<function Test.m3 at 0x000001C6EBAFEA20>)>, '__dict__': <attribute '__dict__' of 'Test' objects>, '__weakref__': <attribute '__weakref__' of 'Test' objects>, '__doc__': None, 'b': 200, 'g': 700, 'c': 300, 'd': 400, 'e': 500, 'f': 600}\n"
     ]
    }
   ],
   "source": [
    "class Test:\n",
    "    a=100\n",
    "    def __init__(self):\n",
    "        Test.b=200\n",
    "    def m1(self):\n",
    "        Test.c=300\n",
    "    @classmethod\n",
    "    def m2(cls):\n",
    "        Test.d=400\n",
    "        cls.e=500\n",
    "    @staticmethod\n",
    "    def m3():\n",
    "        Test.f=600\n",
    "\n",
    "\n",
    "t1=Test()\n",
    "print(Test.__dict__)\n",
    "Test.g=700\n",
    "t1.m1()\n",
    "t1.m2()\n",
    "t1.m3()\n",
    "print(Test.__dict__)"
   ]
  },
  {
   "cell_type": "code",
   "execution_count": null,
   "id": "4f3bb4a8-051b-402f-ab69-155c771bf051",
   "metadata": {},
   "outputs": [],
   "source": []
  }
 ],
 "metadata": {
  "kernelspec": {
   "display_name": "Python 3 (ipykernel)",
   "language": "python",
   "name": "python3"
  },
  "language_info": {
   "codemirror_mode": {
    "name": "ipython",
    "version": 3
   },
   "file_extension": ".py",
   "mimetype": "text/x-python",
   "name": "python",
   "nbconvert_exporter": "python",
   "pygments_lexer": "ipython3",
   "version": "3.12.2"
  }
 },
 "nbformat": 4,
 "nbformat_minor": 5
}
