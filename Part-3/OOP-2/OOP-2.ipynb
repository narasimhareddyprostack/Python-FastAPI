{
 "cells": [
  {
   "cell_type": "code",
   "execution_count": 1,
   "id": "ee0a4076-378b-4c7f-b597-d86a526201a2",
   "metadata": {},
   "outputs": [
    {
     "name": "stdout",
     "output_type": "stream",
     "text": [
      "Test Class - Constructor method\n"
     ]
    },
    {
     "data": {
      "text/plain": [
       "<__main__.Test at 0x2b2f4135fa0>"
      ]
     },
     "execution_count": 1,
     "metadata": {},
     "output_type": "execute_result"
    }
   ],
   "source": [
    "class Test:\n",
    "    def __init__(self):\n",
    "        print(\"Test Class - Constructor method\")\n",
    "    def m1(self):\n",
    "        print(\"Test class - Instance Method\")\n",
    "    @classmethod\n",
    "    def m2(cls):\n",
    "        print(\"Test class - class method\")\n",
    "    @staticmethod\n",
    "    def m3():\n",
    "        print(\"Test Class - static method\")\n",
    "\n",
    "Test()"
   ]
  },
  {
   "cell_type": "code",
   "execution_count": 3,
   "id": "b094e6b6-0bdd-4be7-8f63-fdb5a4ea083c",
   "metadata": {},
   "outputs": [
    {
     "name": "stdout",
     "output_type": "stream",
     "text": [
      "Test Class - Constructor method\n",
      "Test Class - Constructor method\n",
      "Test class - Instance Method\n",
      "Test class - Instance Method\n",
      "Test class - Instance Method\n",
      "Test class - Instance Method\n",
      "Test class - Instance Method\n",
      "Test class - Instance Method\n"
     ]
    }
   ],
   "source": [
    "class Test:\n",
    "    def __init__(self):\n",
    "        print(\"Test Class - Constructor method\")\n",
    "    def m1(self):\n",
    "        print(\"Test class - Instance Method\")\n",
    "    @classmethod\n",
    "    def m2(cls):\n",
    "        print(\"Test class - class method\")\n",
    "    @staticmethod\n",
    "    def m3():\n",
    "        print(\"Test Class - static method\")\n",
    "\n",
    "t1=Test()\n",
    "t2=Test()\n",
    "t1.m1()\n",
    "t1.m1()\n",
    "t1.m1()\n",
    "\n",
    "t1.m1()\n",
    "t1.m1()\n",
    "\n",
    "t1.m1()"
   ]
  },
  {
   "cell_type": "code",
   "execution_count": 7,
   "id": "3cfdbab4-4448-4312-ae63-dd7d16055da7",
   "metadata": {},
   "outputs": [
    {
     "name": "stdout",
     "output_type": "stream",
     "text": [
      "Account Class - Constructor method\n",
      "Account class - instance method\n",
      "Account class - instance method\n",
      "Account class - instance method\n",
      "Account class - instance method\n",
      "Account class - instance method\n",
      "Account class - instance method\n"
     ]
    }
   ],
   "source": [
    "class Account:\n",
    "    def __init__(self):\n",
    "        print(\"Account Class - Constructor method\")\n",
    "    def deposit_amount(self,amount):\n",
    "        print(\"Account class - instance method\")\n",
    "a1=Account()\n",
    "a1.deposit_amount(50000)\n",
    "a1.deposit_amount(50000)\n",
    "a1.deposit_amount(50000)\n",
    "a1.deposit_amount(50000)\n",
    "a1.deposit_amount(50000)\n",
    "a1.deposit_amount(50000)"
   ]
  },
  {
   "cell_type": "code",
   "execution_count": 11,
   "id": "e89d6563-05e5-4e2b-b849-e5b6f720a262",
   "metadata": {},
   "outputs": [
    {
     "name": "stdout",
     "output_type": "stream",
     "text": [
      "{'acc_id': 101, 'acc_name': 'Rahul', 'acc_bal': 5000}\n",
      "{'acc_id': 102, 'acc_name': 'Sonia', 'acc_bal': 6000}\n",
      "{'acc_id': 103, 'acc_name': 'Priyanka', 'acc_bal': 7000}\n"
     ]
    }
   ],
   "source": [
    "class Account:\n",
    "    min_bal=500\n",
    "    def __init__(self,id,name,amount):\n",
    "        self.acc_id=id\n",
    "        self.acc_name=name\n",
    "        self.acc_bal = amount\n",
    "        \n",
    "    def deposit_amount(self):\n",
    "        print(\"Instance method\")\n",
    "        \n",
    "a1=Account(101,\"Rahul\",5000)\n",
    "a2=Account(102,\"Sonia\",6000)\n",
    "a3=Account(103,\"Priyanka\",7000)\n",
    "print(a1.__dict__)\n",
    "print(a2.__dict__)\n",
    "print(a3.__dict__)"
   ]
  },
  {
   "cell_type": "code",
   "execution_count": 13,
   "id": "7a93499e-dd9c-4324-b7b1-21e1af613bf7",
   "metadata": {},
   "outputs": [
    {
     "name": "stdout",
     "output_type": "stream",
     "text": [
      "{'acc_id': 101, 'acc_name': 'Rahul', 'acc_bal': 5030}\n",
      "{'acc_id': 102, 'acc_name': 'Sonia', 'acc_bal': 6000}\n",
      "{'acc_id': 103, 'acc_name': 'Priyanka', 'acc_bal': 7055}\n"
     ]
    }
   ],
   "source": [
    "class Account:\n",
    "    min_bal=500\n",
    "    def __init__(self,id,name,amount):\n",
    "        self.acc_id=id\n",
    "        self.acc_name=name\n",
    "        self.acc_bal = amount\n",
    "        \n",
    "    def deposit_amount(self,amount):\n",
    "        self.acc_bal = self.acc_bal+amount\n",
    "        \n",
    "a1=Account(101,\"Rahul\",5000)\n",
    "a1.deposit_amount(15)\n",
    "a1.deposit_amount(15)\n",
    "a2=Account(102,\"Sonia\",6000)\n",
    "a3=Account(103,\"Priyanka\",7000)\n",
    "a3.deposit_amount(55)\n",
    "\n",
    "print(a1.__dict__)\n",
    "print(a2.__dict__)\n",
    "print(a3.__dict__)"
   ]
  },
  {
   "cell_type": "code",
   "execution_count": 14,
   "id": "5f41bcb1-d12e-4c13-82a3-9c2b3e9bdfc5",
   "metadata": {},
   "outputs": [
    {
     "name": "stdout",
     "output_type": "stream",
     "text": [
      "{'__module__': '__main__', 'min_bal': 500, '__init__': <function Account.__init__ at 0x000002B2F43F1A80>, 'deposit_amount': <function Account.deposit_amount at 0x000002B2F43F0CC0>, '__dict__': <attribute '__dict__' of 'Account' objects>, '__weakref__': <attribute '__weakref__' of 'Account' objects>, '__doc__': None}\n"
     ]
    }
   ],
   "source": [
    "class Account:\n",
    "    min_bal=500\n",
    "    def __init__(self,id,name,amount):\n",
    "        self.acc_id=id\n",
    "        self.acc_name=name\n",
    "        self.acc_bal = amount\n",
    "        \n",
    "    def deposit_amount(self,amount):\n",
    "        self.acc_bal = self.acc_bal+amount\n",
    "\n",
    "\n",
    "print(Account.__dict__)"
   ]
  },
  {
   "cell_type": "code",
   "execution_count": 17,
   "id": "5a5eb983-1106-4e2e-ac3e-c274cecfe5a1",
   "metadata": {},
   "outputs": [
    {
     "name": "stdout",
     "output_type": "stream",
     "text": [
      "{'__module__': '__main__', '__doc__': 'Task No 764- created by Narasimha', '__dict__': <attribute '__dict__' of 'Test' objects>, '__weakref__': <attribute '__weakref__' of 'Test' objects>}\n",
      "Task No 764- created by Narasimha\n"
     ]
    }
   ],
   "source": [
    "class Test:\n",
    "    \"Task No 764- created by Narasimha\"\n",
    "    pass\n",
    "\n",
    "print(Test.__dict__)\n",
    "print(Test.__doc__)"
   ]
  },
  {
   "cell_type": "code",
   "execution_count": null,
   "id": "1ca7a066-aea4-4188-9855-30f35e4cc972",
   "metadata": {},
   "outputs": [],
   "source": []
  }
 ],
 "metadata": {
  "kernelspec": {
   "display_name": "Python 3 (ipykernel)",
   "language": "python",
   "name": "python3"
  },
  "language_info": {
   "codemirror_mode": {
    "name": "ipython",
    "version": 3
   },
   "file_extension": ".py",
   "mimetype": "text/x-python",
   "name": "python",
   "nbconvert_exporter": "python",
   "pygments_lexer": "ipython3",
   "version": "3.12.2"
  }
 },
 "nbformat": 4,
 "nbformat_minor": 5
}
