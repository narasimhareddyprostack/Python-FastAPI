{
 "cells": [
  {
   "cell_type": "code",
   "execution_count": 1,
   "id": "0fda347a-047a-4688-a4ba-910b1db8990e",
   "metadata": {},
   "outputs": [
    {
     "name": "stdout",
     "output_type": "stream",
     "text": [
      "GM\n"
     ]
    }
   ],
   "source": [
    "#create userdefined error\n",
    "class TestError(Exception):\n",
    "    def __init__(self,msg):\n",
    "        self.msg=msg\n",
    "\n",
    "\n",
    "def testcase():\n",
    "    if True:\n",
    "        print(\"GM\")\n",
    "    else:\n",
    "        print(\"GN\")\n",
    "testcase()"
   ]
  },
  {
   "cell_type": "code",
   "execution_count": 3,
   "id": "94cab17b-19a4-41ef-9c6c-9c85d35f8b35",
   "metadata": {},
   "outputs": [
    {
     "name": "stdout",
     "output_type": "stream",
     "text": [
      "Handling Error\n"
     ]
    }
   ],
   "source": [
    "#create userdefined error\n",
    "class TestError(Exception):\n",
    "    def __init__(self,msg):\n",
    "        self.msg=msg\n",
    "\n",
    "\n",
    "def testcase():\n",
    "    if False:\n",
    "        print(\"GM\")\n",
    "    else:\n",
    "        try:\n",
    "            raise TestError(\"Test Error....\")\n",
    "        except TestError as err:\n",
    "            print(\"Handling Error\")\n",
    "testcase()"
   ]
  },
  {
   "cell_type": "code",
   "execution_count": 4,
   "id": "2b51c1a4-fe85-416f-bde0-7e006c3c5869",
   "metadata": {},
   "outputs": [
    {
     "ename": "ZeroDivisionError",
     "evalue": "division by zero",
     "output_type": "error",
     "traceback": [
      "\u001b[1;31m---------------------------------------------------------------------------\u001b[0m",
      "\u001b[1;31mZeroDivisionError\u001b[0m                         Traceback (most recent call last)",
      "Cell \u001b[1;32mIn[4], line 1\u001b[0m\n\u001b[1;32m----> 1\u001b[0m \u001b[38;5;28mprint\u001b[39m(\u001b[38;5;241;43m10\u001b[39;49m\u001b[38;5;241;43m/\u001b[39;49m\u001b[38;5;241;43m0\u001b[39;49m)\n\u001b[0;32m      2\u001b[0m \u001b[38;5;28mprint\u001b[39m(\u001b[38;5;124m\"\u001b[39m\u001b[38;5;124mGM\u001b[39m\u001b[38;5;124m\"\u001b[39m)\n",
      "\u001b[1;31mZeroDivisionError\u001b[0m: division by zero"
     ]
    }
   ],
   "source": [
    "print(10/0)\n",
    "print(\"GM\")"
   ]
  },
  {
   "cell_type": "code",
   "execution_count": 6,
   "id": "c48eeef2-5ddc-4561-8035-4ba5f459f543",
   "metadata": {},
   "outputs": [
    {
     "ename": "ZeroDivisionError",
     "evalue": "Devara Movie",
     "output_type": "error",
     "traceback": [
      "\u001b[1;31m---------------------------------------------------------------------------\u001b[0m",
      "\u001b[1;31mZeroDivisionError\u001b[0m                         Traceback (most recent call last)",
      "Cell \u001b[1;32mIn[6], line 1\u001b[0m\n\u001b[1;32m----> 1\u001b[0m \u001b[38;5;28;01mraise\u001b[39;00m \u001b[38;5;167;01mZeroDivisionError\u001b[39;00m(\u001b[38;5;124m\"\u001b[39m\u001b[38;5;124mDevara Movie\u001b[39m\u001b[38;5;124m\"\u001b[39m)\n\u001b[0;32m      2\u001b[0m \u001b[38;5;28mprint\u001b[39m(\u001b[38;5;124m\"\u001b[39m\u001b[38;5;124mGM\u001b[39m\u001b[38;5;124m\"\u001b[39m)\n",
      "\u001b[1;31mZeroDivisionError\u001b[0m: Devara Movie"
     ]
    }
   ],
   "source": [
    "raise ZeroDivisionError(\"Devara Movie\")\n",
    "print(\"GM\")"
   ]
  },
  {
   "cell_type": "code",
   "execution_count": 8,
   "id": "20466808-52f6-4907-9af9-5c3981894dd7",
   "metadata": {},
   "outputs": [
    {
     "ename": "ZeroDivisionError",
     "evalue": "Cant Divibe by Zero",
     "output_type": "error",
     "traceback": [
      "\u001b[1;31m---------------------------------------------------------------------------\u001b[0m",
      "\u001b[1;31mZeroDivisionError\u001b[0m                         Traceback (most recent call last)",
      "Cell \u001b[1;32mIn[8], line 5\u001b[0m\n\u001b[0;32m      2\u001b[0m     \u001b[38;5;28;01mdef\u001b[39;00m \u001b[38;5;21m__init__\u001b[39m(\u001b[38;5;28mself\u001b[39m,msg):\n\u001b[0;32m      3\u001b[0m         \u001b[38;5;28mself\u001b[39m\u001b[38;5;241m.\u001b[39mmsg\u001b[38;5;241m=\u001b[39mmsg\n\u001b[1;32m----> 5\u001b[0m \u001b[38;5;28;01mraise\u001b[39;00m \u001b[38;5;167;01mZeroDivisionError\u001b[39;00m(\u001b[38;5;124m\"\u001b[39m\u001b[38;5;124mCant Divibe by Zero\u001b[39m\u001b[38;5;124m\"\u001b[39m)\n\u001b[0;32m      6\u001b[0m \u001b[38;5;66;03m#raise InsuffientBalError(\"Low Balance\")\u001b[39;00m\n\u001b[0;32m      7\u001b[0m \u001b[38;5;28mprint\u001b[39m(\u001b[38;5;124m\"\u001b[39m\u001b[38;5;124mGM\u001b[39m\u001b[38;5;124m\"\u001b[39m)   \n",
      "\u001b[1;31mZeroDivisionError\u001b[0m: Cant Divibe by Zero"
     ]
    }
   ],
   "source": [
    "class InsuffientBalError(Exception):\n",
    "    def __init__(self,msg):\n",
    "        self.msg=msg\n",
    "\n",
    "raise ZeroDivisionError(\"Cant Divibe by Zero\")\n",
    "#raise InsuffientBalError(\"Low Balance\")\n",
    "print(\"GM\")   "
   ]
  },
  {
   "cell_type": "code",
   "execution_count": 10,
   "id": "2aed1846-edc0-4840-b9be-130fbe7069da",
   "metadata": {},
   "outputs": [
    {
     "name": "stdin",
     "output_type": "stream",
     "text": [
      "Enter Amout to withdrawl 6000\n"
     ]
    },
    {
     "ename": "InsuffientBalError",
     "evalue": "Low Bal",
     "output_type": "error",
     "traceback": [
      "\u001b[1;31m---------------------------------------------------------------------------\u001b[0m",
      "\u001b[1;31mInsuffientBalError\u001b[0m                        Traceback (most recent call last)",
      "Cell \u001b[1;32mIn[10], line 12\u001b[0m\n\u001b[0;32m     10\u001b[0m     \u001b[38;5;28;01melse\u001b[39;00m:\n\u001b[0;32m     11\u001b[0m         \u001b[38;5;28;01mraise\u001b[39;00m InsuffientBalError(\u001b[38;5;124m\"\u001b[39m\u001b[38;5;124mLow Bal\u001b[39m\u001b[38;5;124m\"\u001b[39m)\n\u001b[1;32m---> 12\u001b[0m \u001b[43mwithdrawl\u001b[49m\u001b[43m(\u001b[49m\u001b[43m)\u001b[49m\n",
      "Cell \u001b[1;32mIn[10], line 11\u001b[0m, in \u001b[0;36mwithdrawl\u001b[1;34m()\u001b[0m\n\u001b[0;32m      9\u001b[0m     \u001b[38;5;28mprint\u001b[39m(\u001b[38;5;124m\"\u001b[39m\u001b[38;5;124mWithdrawl and enjoy\u001b[39m\u001b[38;5;124m\"\u001b[39m)\n\u001b[0;32m     10\u001b[0m \u001b[38;5;28;01melse\u001b[39;00m:\n\u001b[1;32m---> 11\u001b[0m     \u001b[38;5;28;01mraise\u001b[39;00m InsuffientBalError(\u001b[38;5;124m\"\u001b[39m\u001b[38;5;124mLow Bal\u001b[39m\u001b[38;5;124m\"\u001b[39m)\n",
      "\u001b[1;31mInsuffientBalError\u001b[0m: Low Bal"
     ]
    }
   ],
   "source": [
    "class InsuffientBalError(Exception):\n",
    "    def __init__(self,msg):\n",
    "        self.msg=msg\n",
    "\n",
    "def withdrawl():\n",
    "    amount = int(input(\"Enter Amout to withdrawl\"))\n",
    "    acc_bal  = 5000\n",
    "    if acc_bal > amount:\n",
    "        print(\"Withdrawl and enjoy\")\n",
    "    else:\n",
    "        raise InsuffientBalError(\"Low Bal\")\n",
    "withdrawl()"
   ]
  },
  {
   "cell_type": "code",
   "execution_count": 2,
   "id": "b39fe633-78df-429b-9fc8-751fd6d78a3f",
   "metadata": {},
   "outputs": [
    {
     "name": "stdin",
     "output_type": "stream",
     "text": [
      "Enter Amout to withdrawl 6000\n"
     ]
    },
    {
     "ename": "InsuffientBalError",
     "evalue": "Low Bal",
     "output_type": "error",
     "traceback": [
      "\u001b[1;31m---------------------------------------------------------------------------\u001b[0m",
      "\u001b[1;31mInsuffientBalError\u001b[0m                        Traceback (most recent call last)",
      "Cell \u001b[1;32mIn[2], line 12\u001b[0m\n\u001b[0;32m     10\u001b[0m     \u001b[38;5;28;01melse\u001b[39;00m:\n\u001b[0;32m     11\u001b[0m         \u001b[38;5;28;01mraise\u001b[39;00m InsuffientBalError(\u001b[38;5;124m\"\u001b[39m\u001b[38;5;124mLow Bal\u001b[39m\u001b[38;5;124m\"\u001b[39m)\n\u001b[1;32m---> 12\u001b[0m \u001b[43mwithdrawl\u001b[49m\u001b[43m(\u001b[49m\u001b[43m)\u001b[49m\n\u001b[0;32m     13\u001b[0m \u001b[38;5;28mprint\u001b[39m(\u001b[38;5;124m\"\u001b[39m\u001b[38;5;124mGood Morning\u001b[39m\u001b[38;5;124m\"\u001b[39m)\n",
      "Cell \u001b[1;32mIn[2], line 11\u001b[0m, in \u001b[0;36mwithdrawl\u001b[1;34m()\u001b[0m\n\u001b[0;32m      9\u001b[0m     \u001b[38;5;28mprint\u001b[39m(\u001b[38;5;124m\"\u001b[39m\u001b[38;5;124mWithdrawl and enjoy\u001b[39m\u001b[38;5;124m\"\u001b[39m)\n\u001b[0;32m     10\u001b[0m \u001b[38;5;28;01melse\u001b[39;00m:\n\u001b[1;32m---> 11\u001b[0m     \u001b[38;5;28;01mraise\u001b[39;00m InsuffientBalError(\u001b[38;5;124m\"\u001b[39m\u001b[38;5;124mLow Bal\u001b[39m\u001b[38;5;124m\"\u001b[39m)\n",
      "\u001b[1;31mInsuffientBalError\u001b[0m: Low Bal"
     ]
    }
   ],
   "source": [
    "class InsuffientBalError(Exception):\n",
    "    def __init__(self,msg):\n",
    "        self.msg=msg\n",
    "\n",
    "def withdrawl():\n",
    "    amount = int(input(\"Enter Amout to withdrawl\"))\n",
    "    acc_bal  = 5000\n",
    "    if acc_bal > amount:\n",
    "        print(\"Withdrawl and enjoy\")\n",
    "    else:\n",
    "        raise InsuffientBalError(\"Low Bal\")\n",
    "withdrawl()\n",
    "print(\"Good Morning\")"
   ]
  },
  {
   "cell_type": "code",
   "execution_count": null,
   "id": "8551e6a5-1b97-4023-b8b7-667287e7adc9",
   "metadata": {},
   "outputs": [],
   "source": []
  }
 ],
 "metadata": {
  "kernelspec": {
   "display_name": "Python 3 (ipykernel)",
   "language": "python",
   "name": "python3"
  },
  "language_info": {
   "codemirror_mode": {
    "name": "ipython",
    "version": 3
   },
   "file_extension": ".py",
   "mimetype": "text/x-python",
   "name": "python",
   "nbconvert_exporter": "python",
   "pygments_lexer": "ipython3",
   "version": "3.12.2"
  }
 },
 "nbformat": 4,
 "nbformat_minor": 5
}
